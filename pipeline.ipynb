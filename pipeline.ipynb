{
 "cells": [
  {
   "cell_type": "code",
   "execution_count": 61,
   "metadata": {},
   "outputs": [],
   "source": [
    "import unstructured.partition.pdf as pdf\n",
    "import inspect \n",
    "import os \n",
    "from PIL import Image\n",
    "from pix2tex.cli import LatexOCR\n"
   ]
  },
  {
   "cell_type": "code",
   "execution_count": 5,
   "metadata": {},
   "outputs": [],
   "source": [
    "from pathlib import Path\n",
    "\n",
    "root = Path(\"data\")\n",
    "children = list(root.iterdir())\n",
    "course_dirs = list(\n",
    "    filter(\n",
    "        lambda x: x.is_dir() and x.name not in [\".git\", \".DS_Store\"],\n",
    "        children,\n",
    "    )\n",
    ")\n",
    "course_names = list(map(lambda x: x.name, course_dirs))\n",
    "# course_names"
   ]
  },
  {
   "cell_type": "code",
   "execution_count": 53,
   "metadata": {},
   "outputs": [],
   "source": [
    "data_path = \"/home/reaganjlee/Berkeley-CS-QA-Dataset/data/\"\n",
    "course_path = \"cs189/renamed_exams\"\n",
    "full_dir_path = data_path + course_path\n",
    "base_name = \"cs189_fall2015_final_blank\"\n",
    "# file_path = \"cs189_fall2015_final_solution.pdf\"\n",
    "\n",
    "# Probably not that helpful as file structure gets more complex\n",
    "def get_file_name(ending=\"\", base_name=base_name):\n",
    "    return f\"{base_name}{ending}\"\n",
    "\n",
    "def get_pdf_path():\n",
    "    return os.path.join(data_path, course_path, base_name) + \".pdf\"\n",
    "    \n",
    "\n",
    "# def get_full_path(file_path=file_path, full_dir_path=full_dir_path):\n",
    "#     return os.path.join(full_dir_path, file_path)\n",
    "\n",
    "# print(get_full_path())\n",
    "# print(get_full_path(\"\"))\n"
   ]
  },
  {
   "cell_type": "code",
   "execution_count": 90,
   "metadata": {},
   "outputs": [],
   "source": [
    "from datetime import datetime\n",
    "\n",
    "def generate_folder_name(dataset_name):\n",
    "    \"\"\"\n",
    "    Generates a folder name with the format: [DatasetName]_[YYYYMMDD]_[HHMMSS]\n",
    "\n",
    "    :param dataset_name: The name of the dataset\n",
    "    :return: A string representing the folder name\n",
    "    \"\"\"\n",
    "    timestamp = datetime.now().strftime(\"%Y%m%d_%H%M%S\")\n",
    "    folder_name = f\"{dataset_name}_{timestamp}\"\n",
    "    return folder_name\n",
    "\n",
    "def get_date():\n",
    "    return datetime.now().strftime(\"%Y%m%d_%H%M%S\")\n",
    "\n",
    "# Example usage\n",
    "# exam_folder_name = generate_folder_name(get_file_name())\n",
    "# print(exam_folder_name)\n"
   ]
  },
  {
   "cell_type": "code",
   "execution_count": 55,
   "metadata": {},
   "outputs": [
    {
     "name": "stdout",
     "output_type": "stream",
     "text": [
      "folder_path: /home/reaganjlee/Berkeley-CS-QA-Dataset/data/tmp/cs189_fall2015_final_blank\n"
     ]
    }
   ],
   "source": [
    "def make_tmp_folder():\n",
    "    folder_path = data_path + \"tmp/\" + base_name\n",
    "    print(f\"folder_path: {folder_path}\")\n",
    "    # if not os.path.exists(folder_path) and os.path.isdir(folder_path):\n",
    "    #     print(f\"Making directory at {folder_path}\")\n",
    "    os.makedirs(folder_path, exist_ok=True)\n",
    "\n",
    "def get_tmp_folder() -> str:\n",
    "    return data_path + \"tmp/\" + base_name\n",
    "make_tmp_folder()\n",
    "    "
   ]
  },
  {
   "cell_type": "code",
   "execution_count": 98,
   "metadata": {},
   "outputs": [],
   "source": [
    "partitioned_elements = pdf.partition_pdf(\n",
    "    get_pdf_path(),\n",
    "    # get_file_name(\".pdf\", \"test\"),\n",
    "    include_page_breaks=True,\n",
    "    strategy=\"hi_res\",\n",
    "    infer_table_structure=True,\n",
    "    extract_images_in_pdf=True,\n",
    "    output_type=\"dict\",\n",
    "    image_output_dir_path=\"testpdf_images\",\n",
    ")"
   ]
  },
  {
   "cell_type": "code",
   "execution_count": 99,
   "metadata": {},
   "outputs": [
    {
     "data": {
      "text/plain": [
       "195"
      ]
     },
     "execution_count": 99,
     "metadata": {},
     "output_type": "execute_result"
    }
   ],
   "source": [
    "len(partitioned_elements)"
   ]
  },
  {
   "cell_type": "code",
   "execution_count": 100,
   "metadata": {},
   "outputs": [
    {
     "name": "stdout",
     "output_type": "stream",
     "text": [
      "{'points': ((181.51388888888889, 442.6733333333336), (181.51388888888889, 509.34808349609375), (1539.998510888888, 509.34808349609375), (1539.998510888888, 442.6733333333336)), 'system': 'PixelSpace', 'layout_width': 1700, 'layout_height': 2200}\n",
      "<unstructured.documents.coordinates.PixelSpace object at 0x7f85942e7590>\n",
      "Orientation.SCREEN\n",
      "1700\n",
      "2200\n"
     ]
    }
   ],
   "source": [
    "element = partitioned_elements[5]\n",
    "print(element.metadata.coordinates.to_dict())\n",
    "print(element.metadata.coordinates.system)\n",
    "print(element.metadata.coordinates.system.orientation)\n",
    "print(element.metadata.coordinates.system.width)\n",
    "print(element.metadata.coordinates.system.height)\n"
   ]
  },
  {
   "cell_type": "code",
   "execution_count": 128,
   "metadata": {},
   "outputs": [
    {
     "name": "stdout",
     "output_type": "stream",
     "text": [
      "pdf path is /home/reaganjlee/Berkeley-CS-QA-Dataset/data/cs189/renamed_exams/cs189_fall2015_final_blank.pdf\n",
      "output path is: /home/reaganjlee/Berkeley-CS-QA-Dataset/data/tmp/cs189_fall2015_final_blank_20231222_185718\n"
     ]
    }
   ],
   "source": [
    "import fitz  # PyMuPDF\n",
    "\n",
    "def convert_pdf_to_jpg_with_quad(indicies, partitioned_elements, pdf_path, output_dir, debug=False):\n",
    "    \"\"\"\n",
    "    Convert a PDF to JPG after cropping with given quadrilateral points, scaling them to fit the PDF page dimensions.\n",
    "    :param pdf_path: Path to the PDF file.\n",
    "    :param quad_points: A list of 4 tuples, each representing the corners of the quadrilateral.\n",
    "    :param output_path: Path to save the output JPG file.\n",
    "    :param pixel_sys_width: Width of the original pixel-based system.\n",
    "    :param pixel_sys_height: Height of the original pixel-based system.\n",
    "    \"\"\"\n",
    "    doc = fitz.open(pdf_path)\n",
    "    page = doc.load_page(0)\n",
    "    pdf_width, pdf_height = page.rect.width, page.rect.height\n",
    "    # assert isinstance(elements, list)\n",
    "    if isinstance(indicies, int):\n",
    "        indicies = [indicies]\n",
    "\n",
    "    output_dir = output_dir + \"/img\"\n",
    "    os.makedirs(output_dir)\n",
    "\n",
    "    for i in indicies:\n",
    "        element = partitioned_elements[i]\n",
    "        if debug: \n",
    "            print(f\"index {i} has element {element}\")\n",
    "            \n",
    "        if element.metadata.coordinates is None: \n",
    "            continue\n",
    "        quad_points = element.metadata.coordinates.points\n",
    "        pixel_sys_width = element.metadata.coordinates.system.width\n",
    "        pixel_sys_height = element.metadata.coordinates.system.height\n",
    "        pdf_page_num = element.metadata.page_number\n",
    "\n",
    "        doc = fitz.open(pdf_path)\n",
    "        page = doc.load_page(pdf_page_num-1)\n",
    "    \n",
    "        if debug:\n",
    "            print(\"beginning page cropbox: \", page.cropbox)\n",
    "            print(f\"pdf_width: {pdf_width}\")\n",
    "            print(f\"pdf_height: {pdf_height}\")\n",
    "\n",
    "        # Calculate scaling factors\n",
    "        scale_x = pdf_width / pixel_sys_width \n",
    "        scale_y = pdf_height / pixel_sys_height\n",
    "\n",
    "        # Transform and scale the coordinates\n",
    "        transformed_quad_points = []\n",
    "        for x, y in quad_points:\n",
    "            x_scaled = x * scale_x\n",
    "            y_scaled = y * scale_y\n",
    "\n",
    "            # Consider leaving this to raise if out of bounds \n",
    "            x_scaled = min(max(x_scaled, 0), pdf_width)\n",
    "            y_scaled = min(max(y_scaled, 0), pdf_height)\n",
    "\n",
    "            transformed_quad_points.append((x_scaled, y_scaled))\n",
    "\n",
    "\n",
    "        # Convert quadrilateral into a rectangle for cropping (minimal bounding box)\n",
    "        rect = fitz.Rect(fitz.Point(*transformed_quad_points[0]), fitz.Point(*transformed_quad_points[2]))\n",
    "\n",
    "        if debug:\n",
    "            print(\"original quad_points\", quad_points)\n",
    "            print(\"transformed_quad_points\", transformed_quad_points)\n",
    "            print(\"pdf dimensions\", pdf_width, pdf_height)\n",
    "            print(\"after page cropbox: \", page.cropbox)\n",
    "            print(\"after page mediabox: \", page.mediabox)\n",
    "            print(\"rect is: \", rect)\n",
    "\n",
    "        # Crop the page\n",
    "        page.set_cropbox(rect)\n",
    "\n",
    "        zoom_x = 2.0  # horizontal zoom\n",
    "        zoom_y = 2.0  # vertical zoom\n",
    "        mat = fitz.Matrix(zoom_x, zoom_y)  # zoom factor 2 in each dimension\n",
    "        pix = page.get_pixmap(matrix=mat)  # use 'mat' instead of the identity matrix\n",
    "\n",
    "        # Save the image as JPG\n",
    "        pix.save(f\"{output_dir}/{i}.jpg\")\n",
    "\n",
    "        # Close the document\n",
    "        doc.close()\n",
    "\n",
    "\n",
    "# Example usage\n",
    "# element = [partitioned_elements[21]]\n",
    "indicies = range(27,55)\n",
    "pdf_path = get_pdf_path() # get_file_name(\".pdf\")\n",
    "output_dir = get_tmp_folder() + \"_\" + get_date() \n",
    "print(f\"pdf path is {get_pdf_path()}\")\n",
    "print(f\"output path is: {output_dir}\")\n",
    "\n",
    "convert_pdf_to_jpg_with_quad(indicies, partitioned_elements, pdf_path, output_dir)"
   ]
  },
  {
   "cell_type": "code",
   "execution_count": 129,
   "metadata": {},
   "outputs": [
    {
     "data": {
      "image/jpeg": "[encoded data removed]",
      "image/png": "[encoded data removed]",
      "text/plain": [
       "<PIL.JpegImagePlugin.JpegImageFile image mode=RGB size=1009x45>"
      ]
     },
     "metadata": {},
     "output_type": "display_data"
    },
    {
     "name": "stdout",
     "output_type": "stream",
     "text": [
      "\\mathrm{{\\bf(10)}}\\underbrace{\\mathrm{[2)}^{\\mathrm{Toglaslelercegonisenteguntiont~to~aneurahtanionithont~theang~croenropy~loasmentrogleantis~sing~crosenropy~tease}}\n"
     ]
    }
   ],
   "source": [
    "blah = \"/home/reaganjlee/Berkeley-CS-QA-Dataset/data/tmp/cs189_fall2015_final_blank_20231222_183348/28.jpg\"\n",
    "img = Image.open(blah)\n",
    "display(img)\n",
    "model = LatexOCR()\n",
    "result = model(img)\n",
    "print(result)"
   ]
  },
  {
   "cell_type": "code",
   "execution_count": 130,
   "metadata": {},
   "outputs": [
    {
     "name": "stdout",
     "output_type": "stream",
     "text": [
      "Saved latex output to /home/reaganjlee/Berkeley-CS-QA-Dataset/data/tmp/cs189_fall2015_final_blank_20231222_185718/latex_out.json\n"
     ]
    }
   ],
   "source": [
    "import json\n",
    "def convert_jpg_to_latex(io_dir):\n",
    "    print(f\"Converting jpgs to latex in io_dir {io_dir}\")\n",
    "    output = []\n",
    "    model = LatexOCR()\n",
    "    img_dir = io_dir + \"/img\" # Images  \n",
    "    for img_file in os.listdir(img_dir):\n",
    "        # if not isinstance(img, Image)\n",
    "        # assuming each file is a jpg for now\n",
    "        if not img_file.endswith('.jpg'):\n",
    "            print(\"Warning, there's a file that's not a jpg in the img dir\")\n",
    "            continue\n",
    "        img = Image.open(f\"{img_dir}/{img_file}\")\n",
    "        output.append(model(img))\n",
    "\n",
    "    with open(f'{io_dir}/latex_out.json', 'w') as file:\n",
    "        json.dump(output, file)\n",
    "    print(f\"Saved latex output to {f'{io_dir}/latex_out.json'}\")\n",
    "# TODO: get a pandas df to put these all together \n",
    "convert_jpg_to_latex(output_dir)"
   ]
  },
  {
   "cell_type": "code",
   "execution_count": null,
   "metadata": {},
   "outputs": [],
   "source": []
  },
  {
   "cell_type": "code",
   "execution_count": 80,
   "metadata": {},
   "outputs": [
    {
     "name": "stdout",
     "output_type": "stream",
     "text": [
      "\\begin{array}{l l}{{(4)}}&{{[2{\\mathrm{~ptsl~Convolutional~networks~are~rotation~invariant}}.}}\\\\ {{{\\mathrm{~CO~True}}}}&{{\\mathrm{~Co~False}}}\\end{array}\n"
     ]
    },
    {
     "data": {
      "text/latex": [
       "$\\begin{array}{l l}{{(4)}}&{{[2{\\mathrm{~ptsl~Convolutional~networks~are~rotation~invariant}}.}}\\\\ {{{\\mathrm{~CO~True}}}}&{{\\mathrm{~Co~False}}}\\end{array}$"
      ],
      "text/plain": [
       "<IPython.core.display.Latex object>"
      ]
     },
     "metadata": {},
     "output_type": "display_data"
    }
   ],
   "source": [
    "from IPython.display import display, Latex\n",
    "print(result)\n",
    "dis = display(Latex(f'${result}$'))\n",
    "dis"
   ]
  },
  {
   "cell_type": "code",
   "execution_count": null,
   "metadata": {},
   "outputs": [],
   "source": []
  }
 ],
 "metadata": {
  "kernelspec": {
   "display_name": "ccs-env2",
   "language": "python",
   "name": "python3"
  },
  "language_info": {
   "codemirror_mode": {
    "name": "ipython",
    "version": 3
   },
   "file_extension": ".py",
   "mimetype": "text/x-python",
   "name": "python",
   "nbconvert_exporter": "python",
   "pygments_lexer": "ipython3",
   "version": "3.11.3"
  }
 },
 "nbformat": 4,
 "nbformat_minor": 2
}
