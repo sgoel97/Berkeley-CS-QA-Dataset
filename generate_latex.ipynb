{
 "cells": [
  {
   "cell_type": "code",
   "execution_count": 2,
   "metadata": {},
   "outputs": [],
   "source": [
    "from pathlib import Path\n",
    "\n",
    "root = Path()\n",
    "children = list(root.iterdir())\n",
    "course_dirs = list(\n",
    "    filter(\n",
    "        lambda x: x.is_dir() and x.name not in [\".git\", \".DS_Store\"],\n",
    "        children,\n",
    "    )\n",
    ")\n",
    "course_names = list(map(lambda x: x.name, course_dirs))"
   ]
  },
  {
   "cell_type": "code",
   "execution_count": 5,
   "metadata": {},
   "outputs": [
    {
     "name": "stdout",
     "output_type": "stream",
     "text": [
      "Defaulting to user installation because normal site-packages is not writeable\n",
      "Collecting unstructured\n",
      "  Using cached unstructured-0.11.2-py3-none-any.whl.metadata (25 kB)\n",
      "Requirement already satisfied: chardet in /Users/samarthgoel/Library/Python/3.8/lib/python/site-packages (from unstructured) (5.2.0)\n",
      "Collecting filetype (from unstructured)\n",
      "  Using cached filetype-1.2.0-py2.py3-none-any.whl (19 kB)\n",
      "Collecting python-magic (from unstructured)\n",
      "  Using cached python_magic-0.4.27-py2.py3-none-any.whl (13 kB)\n",
      "Collecting lxml (from unstructured)\n",
      "  Downloading lxml-4.9.3.tar.gz (3.6 MB)\n",
      "\u001b[2K     \u001b[90m━━━━━━━━━━━━━━━━━━━━━━━━━━━━━━━━━━━━━━━━\u001b[0m \u001b[32m3.6/3.6 MB\u001b[0m \u001b[31m16.5 MB/s\u001b[0m eta \u001b[36m0:00:00\u001b[0m00:01\u001b[0m00:01\u001b[0m\n",
      "\u001b[?25h  Preparing metadata (setup.py) ... \u001b[?25ldone\n",
      "\u001b[?25hCollecting nltk (from unstructured)\n",
      "  Downloading nltk-3.8.1-py3-none-any.whl (1.5 MB)\n",
      "\u001b[2K     \u001b[90m━━━━━━━━━━━━━━━━━━━━━━━━━━━━━━━━━━━━━━━━\u001b[0m \u001b[32m1.5/1.5 MB\u001b[0m \u001b[31m37.6 MB/s\u001b[0m eta \u001b[36m0:00:00\u001b[0m00:01\u001b[0m\n",
      "\u001b[?25hCollecting tabulate (from unstructured)\n",
      "  Downloading tabulate-0.9.0-py3-none-any.whl (35 kB)\n",
      "Requirement already satisfied: requests in /Users/samarthgoel/Library/Python/3.8/lib/python/site-packages (from unstructured) (2.31.0)\n",
      "Requirement already satisfied: beautifulsoup4 in /Users/samarthgoel/Library/Python/3.8/lib/python/site-packages (from unstructured) (4.10.0)\n",
      "Collecting emoji (from unstructured)\n",
      "  Using cached emoji-2.9.0-py2.py3-none-any.whl.metadata (5.3 kB)\n",
      "Requirement already satisfied: dataclasses-json in /Users/samarthgoel/Library/Python/3.8/lib/python/site-packages (from unstructured) (0.6.1)\n",
      "Collecting python-iso639 (from unstructured)\n",
      "  Using cached python_iso639-2023.6.15-py3-none-any.whl.metadata (13 kB)\n",
      "Collecting langdetect (from unstructured)\n",
      "  Using cached langdetect-1.0.9.tar.gz (981 kB)\n",
      "  Preparing metadata (setup.py) ... \u001b[?25ldone\n",
      "\u001b[?25hRequirement already satisfied: numpy in /Users/samarthgoel/Library/Python/3.8/lib/python/site-packages (from unstructured) (1.24.3)\n",
      "Collecting rapidfuzz (from unstructured)\n",
      "  Downloading rapidfuzz-3.5.2-cp38-cp38-macosx_11_0_arm64.whl.metadata (11 kB)\n",
      "Collecting backoff (from unstructured)\n",
      "  Using cached backoff-2.2.1-py3-none-any.whl (15 kB)\n",
      "Requirement already satisfied: typing-extensions in /Users/samarthgoel/Library/Python/3.8/lib/python/site-packages (from unstructured) (4.5.0)\n",
      "Requirement already satisfied: wrapt in /Users/samarthgoel/Library/Python/3.8/lib/python/site-packages (from unstructured) (1.16.0)\n",
      "Requirement already satisfied: soupsieve>1.2 in /Users/samarthgoel/Library/Python/3.8/lib/python/site-packages (from beautifulsoup4->unstructured) (2.3.1)\n",
      "Requirement already satisfied: marshmallow<4.0.0,>=3.18.0 in /Users/samarthgoel/Library/Python/3.8/lib/python/site-packages (from dataclasses-json->unstructured) (3.20.1)\n",
      "Requirement already satisfied: typing-inspect<1,>=0.4.0 in /Users/samarthgoel/Library/Python/3.8/lib/python/site-packages (from dataclasses-json->unstructured) (0.9.0)\n",
      "Requirement already satisfied: six in /Library/Developer/CommandLineTools/Library/Frameworks/Python3.framework/Versions/3.8/lib/python3.8/site-packages (from langdetect->unstructured) (1.15.0)\n",
      "Collecting click (from nltk->unstructured)\n",
      "  Using cached click-8.1.7-py3-none-any.whl.metadata (3.0 kB)\n",
      "Requirement already satisfied: joblib in /Users/samarthgoel/Library/Python/3.8/lib/python/site-packages (from nltk->unstructured) (1.3.2)\n",
      "Requirement already satisfied: regex>=2021.8.3 in /Users/samarthgoel/Library/Python/3.8/lib/python/site-packages (from nltk->unstructured) (2023.10.3)\n",
      "Requirement already satisfied: tqdm in /Users/samarthgoel/Library/Python/3.8/lib/python/site-packages (from nltk->unstructured) (4.66.1)\n",
      "Requirement already satisfied: charset-normalizer<4,>=2 in /Users/samarthgoel/Library/Python/3.8/lib/python/site-packages (from requests->unstructured) (3.2.0)\n",
      "Requirement already satisfied: idna<4,>=2.5 in /Users/samarthgoel/Library/Python/3.8/lib/python/site-packages (from requests->unstructured) (3.4)\n",
      "Requirement already satisfied: urllib3<3,>=1.21.1 in /Users/samarthgoel/Library/Python/3.8/lib/python/site-packages (from requests->unstructured) (2.0.5)\n",
      "Requirement already satisfied: certifi>=2017.4.17 in /Users/samarthgoel/Library/Python/3.8/lib/python/site-packages (from requests->unstructured) (2023.7.22)\n",
      "Requirement already satisfied: packaging>=17.0 in /Users/samarthgoel/Library/Python/3.8/lib/python/site-packages (from marshmallow<4.0.0,>=3.18.0->dataclasses-json->unstructured) (21.3)\n",
      "Requirement already satisfied: mypy-extensions>=0.3.0 in /Users/samarthgoel/Library/Python/3.8/lib/python/site-packages (from typing-inspect<1,>=0.4.0->dataclasses-json->unstructured) (1.0.0)\n",
      "Requirement already satisfied: pyparsing!=3.0.5,>=2.0.2 in /Users/samarthgoel/Library/Python/3.8/lib/python/site-packages (from packaging>=17.0->marshmallow<4.0.0,>=3.18.0->dataclasses-json->unstructured) (3.0.7)\n",
      "Using cached unstructured-0.11.2-py3-none-any.whl (1.7 MB)\n",
      "Using cached emoji-2.9.0-py2.py3-none-any.whl (397 kB)\n",
      "Using cached python_iso639-2023.6.15-py3-none-any.whl (275 kB)\n",
      "Downloading rapidfuzz-3.5.2-cp38-cp38-macosx_11_0_arm64.whl (1.1 MB)\n",
      "\u001b[2K   \u001b[90m━━━━━━━━━━━━━━━━━━━━━━━━━━━━━━━━━━━━━━━━\u001b[0m \u001b[32m1.1/1.1 MB\u001b[0m \u001b[31m32.6 MB/s\u001b[0m eta \u001b[36m0:00:00\u001b[0m\n",
      "\u001b[?25hUsing cached click-8.1.7-py3-none-any.whl (97 kB)\n",
      "Building wheels for collected packages: langdetect, lxml\n",
      "  Building wheel for langdetect (setup.py) ... \u001b[?25ldone\n",
      "\u001b[?25h  Created wheel for langdetect: filename=langdetect-1.0.9-py3-none-any.whl size=993221 sha256=62ef980b46ebd1fc91a2c3e7f529fc5ca6ac74189823ac8c8cf114eea81600a0\n",
      "  Stored in directory: /Users/samarthgoel/Library/Caches/pip/wheels/13/c7/b0/79f66658626032e78fc1a83103690ef6797d551cb22e56e734\n",
      "  Building wheel for lxml (setup.py) ... \u001b[?25ldone\n",
      "\u001b[?25h  Created wheel for lxml: filename=lxml-4.9.3-cp38-cp38-macosx_10_14_arm64.whl size=3207960 sha256=882cb20f39084975ae5dc75da3a9b1c862f7f48db40afee3113afc865a8dce0a\n",
      "  Stored in directory: /Users/samarthgoel/Library/Caches/pip/wheels/70/25/e4/422c8f9cd5b754007088081b24e9bb2a96d85d66c3bb67d413\n",
      "Successfully built langdetect lxml\n",
      "Installing collected packages: filetype, tabulate, rapidfuzz, python-magic, python-iso639, lxml, langdetect, emoji, click, backoff, nltk, unstructured\n",
      "Successfully installed backoff-2.2.1 click-8.1.7 emoji-2.9.0 filetype-1.2.0 langdetect-1.0.9 lxml-4.9.3 nltk-3.8.1 python-iso639-2023.6.15 python-magic-0.4.27 rapidfuzz-3.5.2 tabulate-0.9.0 unstructured-0.11.2\n",
      "Note: you may need to restart the kernel to use updated packages.\n"
     ]
    }
   ],
   "source": [
    "%pip install 'unstructured'\n",
    "%pip install 'unstructured[pdf]'"
   ]
  },
  {
   "cell_type": "code",
   "execution_count": 7,
   "metadata": {},
   "outputs": [
    {
     "name": "stderr",
     "output_type": "stream",
     "text": [
      "/Users/samarthgoel/Library/Python/3.8/lib/python/site-packages/urllib3/__init__.py:34: NotOpenSSLWarning: urllib3 v2.0 only supports OpenSSL 1.1.1+, currently the 'ssl' module is compiled with 'LibreSSL 2.8.3'. See: https://github.com/urllib3/urllib3/issues/3020\n",
      "  warnings.warn(\n"
     ]
    }
   ],
   "source": [
    "import unstructured.partition.pdf as pdf"
   ]
  },
  {
   "cell_type": "code",
   "execution_count": 8,
   "metadata": {},
   "outputs": [
    {
     "name": "stderr",
     "output_type": "stream",
     "text": [
      "Some weights of the model checkpoint at microsoft/table-transformer-structure-recognition were not used when initializing TableTransformerForObjectDetection: ['model.backbone.conv_encoder.model.layer2.0.downsample.1.num_batches_tracked', 'model.backbone.conv_encoder.model.layer3.0.downsample.1.num_batches_tracked', 'model.backbone.conv_encoder.model.layer4.0.downsample.1.num_batches_tracked']\n",
      "- This IS expected if you are initializing TableTransformerForObjectDetection from the checkpoint of a model trained on another task or with another architecture (e.g. initializing a BertForSequenceClassification model from a BertForPreTraining model).\n",
      "- This IS NOT expected if you are initializing TableTransformerForObjectDetection from the checkpoint of a model that you expect to be exactly identical (initializing a BertForSequenceClassification model from a BertForSequenceClassification model).\n"
     ]
    }
   ],
   "source": [
    "partitioned_elements = pdf.partition_pdf(\n",
    "    \"test.pdf\",\n",
    "    include_page_breaks=True,\n",
    "    strategy=\"hi_res\",\n",
    "    infer_table_structure=True,\n",
    "    extract_images_in_pdf=True,\n",
    "    output_type=\"dict\",\n",
    "    image_output_dir_path=\"testpdf_images\",\n",
    ")"
   ]
  },
  {
   "cell_type": "code",
   "execution_count": 28,
   "metadata": {},
   "outputs": [
    {
     "data": {
      "text/plain": [
       "[<unstructured.documents.elements.Title at 0x2bbe36340>,\n",
       " <unstructured.documents.elements.Image at 0x2c7d58d60>,\n",
       " <unstructured.documents.elements.ListItem at 0x2bbe29a30>,\n",
       " <unstructured.documents.elements.ListItem at 0x2c7d51460>,\n",
       " <unstructured.documents.elements.ListItem at 0x2c7d51760>]"
      ]
     },
     "execution_count": 28,
     "metadata": {},
     "output_type": "execute_result"
    }
   ],
   "source": [
    "partitioned_elements[:5]"
   ]
  },
  {
   "cell_type": "code",
   "execution_count": 27,
   "metadata": {},
   "outputs": [
    {
     "data": {
      "text/plain": [
       "CoordinatesMetadata(points=((181.5944444444445, 818.709444444444), (181.5944444444445, 918.8329077777773), (1540.0108633333334, 918.8329077777773), (1540.0108633333334, 818.709444444444)), system=<unstructured.documents.coordinates.PixelSpace object at 0x2bbe5d4f0>)"
      ]
     },
     "execution_count": 27,
     "metadata": {},
     "output_type": "execute_result"
    }
   ],
   "source": [
    "partitioned_elements[10].metadata.coordinates"
   ]
  },
  {
   "cell_type": "code",
   "execution_count": 30,
   "metadata": {},
   "outputs": [
    {
     "name": "stdout",
     "output_type": "stream",
     "text": [
      "• For multiple answer questions, ﬁll in the bubbles for ALL correct choices: there may be more than one correct choice, but there is always at least one correct choice. NO partial credit on multiple answer questions: the set of all correct answers must be checked.\n",
      "\n",
      "First name Last name SID First and last name of student to your left First and last name of student to your right\n",
      "\n",
      "1\n",
      "\n",
      "\n",
      "\n",
      "Q1. [60 pts] Multiple Answer\n",
      "\n",
      "Fill in the bubbles for ALL correct choices: there may be more than one correct choice, but there is always at least one correct choice. NO partial credit: the set of all correct answers must be checked.\n",
      "\n",
      "1+exp θ ) for some θ ∈ R. What is the MLE estimator of θ? 1 (a) [3 pts] Let X ∼ Bernoulli(\n",
      "\n",
      "(cid:13) X (cid:13) 0 (cid:13) 1\n",
      "\n",
      "(cid:13) Does not exist.\n",
      "\n",
      "(b) [3 pts] Let Y ∼ N(Xθ, In) for some unknown θ ∈ Rd and some known X ∈ Rn×d that has full column rank and d < n. What is the MLE estimator of θ?\n",
      "\n",
      "(cid:13) Y + Z ∀Z ∈ Null(X)\n",
      "\n",
      "(cid:13) (X(cid:62)X)−1X(cid:62)Y (cid:13) X(cid:62)(XX(cid:62))−1Y (cid:13) Does not exist.\n",
      "\n",
      "(c) [3 pts] Let f (x) = − (cid:80)n\n",
      "\n",
      "i=1 xi log xi. For some x such that (cid:80)n\n",
      "\n",
      "i=1 xi = 1 and xi > 0, the Hessian of f is:\n",
      "\n"
     ]
    }
   ],
   "source": [
    "for i in range(10, 25):\n",
    "    print(partitioned_elements[i])\n",
    "    print()"
   ]
  },
  {
   "cell_type": "code",
   "execution_count": null,
   "metadata": {},
   "outputs": [],
   "source": []
  }
 ],
 "metadata": {
  "kernelspec": {
   "display_name": "Python 3",
   "language": "python",
   "name": "python3"
  },
  "language_info": {
   "codemirror_mode": {
    "name": "ipython",
    "version": 3
   },
   "file_extension": ".py",
   "mimetype": "text/x-python",
   "name": "python",
   "nbconvert_exporter": "python",
   "pygments_lexer": "ipython3",
   "version": "3.8.9"
  }
 },
 "nbformat": 4,
 "nbformat_minor": 2
}
