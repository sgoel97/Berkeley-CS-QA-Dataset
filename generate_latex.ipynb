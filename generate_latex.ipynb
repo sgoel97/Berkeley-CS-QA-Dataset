{
 "cells": [
  {
   "cell_type": "code",
   "execution_count": 117,
   "metadata": {},
   "outputs": [
    {
     "data": {
      "text/plain": [
       "['eecs70',\n",
       " 'cs61a',\n",
       " 'cs184',\n",
       " 'cs186',\n",
       " 'data102',\n",
       " 'data100',\n",
       " 'eecs16b',\n",
       " 'eecs120',\n",
       " 'cs162',\n",
       " 'data8',\n",
       " 'cs61b',\n",
       " 'cs189',\n",
       " 'cs170',\n",
       " 'eecs105',\n",
       " 'cs61c',\n",
       " 'eecs152',\n",
       " 'cs188',\n",
       " 'cs164',\n",
       " 'cs169',\n",
       " 'data101',\n",
       " 'cs150',\n",
       " 'cs161',\n",
       " 'cs174',\n",
       " 'cs172',\n",
       " 'eecs16a',\n",
       " 'cs88']"
      ]
     },
     "execution_count": 117,
     "metadata": {},
     "output_type": "execute_result"
    }
   ],
   "source": [
    "from pathlib import Path\n",
    "\n",
    "root = Path(\"data\")\n",
    "children = list(root.iterdir())\n",
    "course_dirs = list(\n",
    "    filter(\n",
    "        lambda x: x.is_dir() and x.name not in [\".git\", \".DS_Store\"],\n",
    "        children,\n",
    "    )\n",
    ")\n",
    "course_names = list(map(lambda x: x.name, course_dirs))\n",
    "course_names"
   ]
  },
  {
   "cell_type": "code",
   "execution_count": 23,
   "metadata": {},
   "outputs": [],
   "source": [
    "# %pip install 'unstructured'\n",
    "# %pip install 'unstructured[pdf]'"
   ]
  },
  {
   "cell_type": "code",
   "execution_count": 24,
   "metadata": {},
   "outputs": [],
   "source": [
    "import unstructured.partition.pdf as pdf\n"
   ]
  },
  {
   "cell_type": "code",
   "execution_count": 25,
   "metadata": {},
   "outputs": [
    {
     "name": "stdout",
     "output_type": "stream",
     "text": [
      "(filename: str = '', file: Union[BinaryIO, tempfile.SpooledTemporaryFile, NoneType] = None, include_page_breaks: bool = False, strategy: str = 'auto', infer_table_structure: bool = False, ocr_languages: Optional[str] = None, languages: Optional[List[str]] = None, include_metadata: bool = True, metadata_filename: Optional[str] = None, metadata_last_modified: Optional[str] = None, chunking_strategy: Optional[str] = None, links: Sequence[unstructured.documents.elements.Link] = [], extract_images_in_pdf: bool = False, image_output_dir_path: Optional[str] = None, **kwargs) -> List[unstructured.documents.elements.Element]\n"
     ]
    }
   ],
   "source": [
    "import inspect \n",
    "print(inspect.signature(pdf.partition_pdf))"
   ]
  },
  {
   "cell_type": "code",
   "execution_count": 26,
   "metadata": {},
   "outputs": [
    {
     "name": "stdout",
     "output_type": "stream",
     "text": [
      "/home/reaganjlee/Berkeley-CS-QA-Dataset/data/cs189/renamed_exams/cs189_fall2015_final_solution.pdf\n",
      "/home/reaganjlee/Berkeley-CS-QA-Dataset/data/cs189/\n"
     ]
    }
   ],
   "source": [
    "import os \n",
    "\n",
    "full_dir_path = \"/home/reaganjlee/Berkeley-CS-QA-Dataset/data/cs189\"\n",
    "base_name = \"test\"\n",
    "file_path = \"renamed_exams/cs189_fall2015_final_solution.pdf\"\n",
    "\n",
    "# Probably not that helpful as file structure gets more complex\n",
    "def get_file_name(ending=\"\", base_name=base_name):\n",
    "    return f\"{base_name}{ending}\"\n",
    "\n",
    "def get_full_path(file_path=file_path, full_dir_path=full_dir_path):\n",
    "    return os.path.join(full_dir_path, file_path)\n",
    "\n",
    "print(get_full_path())\n",
    "print(get_full_path(\"\"))\n"
   ]
  },
  {
   "cell_type": "code",
   "execution_count": 27,
   "metadata": {},
   "outputs": [
    {
     "name": "stdout",
     "output_type": "stream",
     "text": [
      "ExampleDataset_20231222_150151\n"
     ]
    }
   ],
   "source": [
    "from datetime import datetime\n",
    "\n",
    "def generate_folder_name(dataset_name):\n",
    "    \"\"\"\n",
    "    Generates a folder name with the format: [DatasetName]_[YYYYMMDD]_[HHMMSS]\n",
    "\n",
    "    :param dataset_name: The name of the dataset\n",
    "    :return: A string representing the folder name\n",
    "    \"\"\"\n",
    "    timestamp = datetime.now().strftime(\"%Y%m%d_%H%M%S\")\n",
    "    folder_name = f\"{dataset_name}_{timestamp}\"\n",
    "    return folder_name\n",
    "\n",
    "# Example usage\n",
    "folder_name_example = generate_folder_name(\"ExampleDataset\")\n",
    "print(folder_name_example)\n"
   ]
  },
  {
   "cell_type": "code",
   "execution_count": 28,
   "metadata": {},
   "outputs": [],
   "source": [
    "def func():\n",
    "    folder_path = get_full_path()\n",
    "    dataset_name = \"cs189_fall2015_final_solution\"\n",
    "    \n",
    "    if not os.path.exists(folder_path) and os.path.isdir(folder_path):\n",
    "        os.makedirs(partitions_path)\n",
    "\n",
    "    \n"
   ]
  },
  {
   "cell_type": "code",
   "execution_count": 16,
   "metadata": {},
   "outputs": [
    {
     "name": "stderr",
     "output_type": "stream",
     "text": [
      "Some weights of the model checkpoint at microsoft/table-transformer-structure-recognition were not used when initializing TableTransformerForObjectDetection: ['model.backbone.conv_encoder.model.layer3.0.downsample.1.num_batches_tracked', 'model.backbone.conv_encoder.model.layer4.0.downsample.1.num_batches_tracked', 'model.backbone.conv_encoder.model.layer2.0.downsample.1.num_batches_tracked']\n",
      "- This IS expected if you are initializing TableTransformerForObjectDetection from the checkpoint of a model trained on another task or with another architecture (e.g. initializing a BertForSequenceClassification model from a BertForPreTraining model).\n",
      "- This IS NOT expected if you are initializing TableTransformerForObjectDetection from the checkpoint of a model that you expect to be exactly identical (initializing a BertForSequenceClassification model from a BertForSequenceClassification model).\n"
     ]
    }
   ],
   "source": [
    "partitioned_elements = pdf.partition_pdf(\n",
    "    get_file_name(\".pdf\", \"test\"),\n",
    "    include_page_breaks=True,\n",
    "    strategy=\"hi_res\",\n",
    "    infer_table_structure=True,\n",
    "    extract_images_in_pdf=True,\n",
    "    output_type=\"dict\",\n",
    "    image_output_dir_path=\"testpdf_images\",\n",
    ")"
   ]
  },
  {
   "cell_type": "code",
   "execution_count": 17,
   "metadata": {},
   "outputs": [
    {
     "data": {
      "text/plain": [
       "230"
      ]
     },
     "execution_count": 17,
     "metadata": {},
     "output_type": "execute_result"
    }
   ],
   "source": [
    "len(partitioned_elements)"
   ]
  },
  {
   "cell_type": "code",
   "execution_count": 18,
   "metadata": {},
   "outputs": [
    {
     "data": {
      "text/plain": [
       "[<unstructured.documents.elements.Title at 0x7f1d350790d0>,\n",
       " <unstructured.documents.elements.Image at 0x7f1d77cce290>,\n",
       " <unstructured.documents.elements.ListItem at 0x7f1d25ecf490>,\n",
       " <unstructured.documents.elements.ListItem at 0x7f1d8aa68510>,\n",
       " <unstructured.documents.elements.ListItem at 0x7f1d40d75950>]"
      ]
     },
     "execution_count": 18,
     "metadata": {},
     "output_type": "execute_result"
    }
   ],
   "source": [
    "partitioned_elements[:5]"
   ]
  },
  {
   "cell_type": "code",
   "execution_count": 19,
   "metadata": {},
   "outputs": [
    {
     "data": {
      "text/plain": [
       "((1260.1981201171875, 169.6866455078125),\n",
       " (1260.1981201171875, 252.9463277777776),\n",
       " (1523.743408203125, 252.9463277777776),\n",
       " (1523.743408203125, 169.6866455078125))"
      ]
     },
     "execution_count": 19,
     "metadata": {},
     "output_type": "execute_result"
    }
   ],
   "source": [
    "partitioned_elements[1].metadata.coordinates.points"
   ]
  },
  {
   "cell_type": "code",
   "execution_count": 20,
   "metadata": {},
   "outputs": [
    {
     "name": "stdout",
     "output_type": "stream",
     "text": [
      "<class 'list'>\n",
      "• For multiple answer questions, ﬁll in the bubbles for ALL correct choices: there may be more than one correct choice, but there is always at least one correct choice. NO partial credit on multiple answer questions: the set of all correct answers must be checked.\n",
      "<class 'unstructured.documents.elements.ListItem'>\n"
     ]
    }
   ],
   "source": [
    "print(type(partitioned_elements))\n",
    "print(partitioned_elements[10])\n",
    "print(type(partitioned_elements[10]))"
   ]
  },
  {
   "cell_type": "code",
   "execution_count": 21,
   "metadata": {},
   "outputs": [
    {
     "name": "stdout",
     "output_type": "stream",
     "text": [
      "• For multiple answer questions, ﬁll in the bubbles for ALL correct choices: there may be more than one correct choice, but there is always at least one correct choice. NO partial credit on multiple answer questions: the set of all correct answers must be checked.\n",
      "\n",
      "First name Last name SID First and last name of student to your left First and last name of student to your right\n",
      "\n",
      "1\n",
      "\n",
      "\n",
      "\n",
      "Q1. [60 pts] Multiple Answer\n",
      "\n",
      "Fill in the bubbles for ALL correct choices: there may be more than one correct choice, but there is always at least one correct choice. NO partial credit: the set of all correct answers must be checked.\n",
      "\n",
      "1+exp θ ) for some θ ∈ R. What is the MLE estimator of θ? 1 (a) [3 pts] Let X ∼ Bernoulli(\n",
      "\n",
      "(cid:13) X (cid:13) 0 (cid:13) 1\n",
      "\n",
      "(cid:13) Does not exist.\n",
      "\n",
      "(b) [3 pts] Let Y ∼ N(Xθ, In) for some unknown θ ∈ Rd and some known X ∈ Rn×d that has full column rank and d < n. What is the MLE estimator of θ?\n",
      "\n",
      "(cid:13) Y + Z ∀Z ∈ Null(X)\n",
      "\n",
      "(cid:13) (X(cid:62)X)−1X(cid:62)Y (cid:13) X(cid:62)(XX(cid:62))−1Y (cid:13) Does not exist.\n",
      "\n",
      "(c) [3 pts] Let f (x) = − (cid:80)n\n",
      "\n",
      "i=1 xi log xi. For some x such that (cid:80)n\n",
      "\n",
      "i=1 xi = 1 and xi > 0, the Hessian of f is:\n",
      "\n"
     ]
    }
   ],
   "source": [
    "for i in range(10, 25):\n",
    "    print(partitioned_elements[i])\n",
    "    print()"
   ]
  },
  {
   "cell_type": "markdown",
   "metadata": {},
   "source": [
    "### Get Image from coordinates \n"
   ]
  },
  {
   "cell_type": "code",
   "execution_count": 29,
   "metadata": {},
   "outputs": [
    {
     "name": "stdout",
     "output_type": "stream",
     "text": [
      "{'points': ((1260.1981201171875, 169.6866455078125), (1260.1981201171875, 252.9463277777776), (1523.743408203125, 252.9463277777776), (1523.743408203125, 169.6866455078125)), 'system': 'PixelSpace', 'layout_width': 1700, 'layout_height': 2200}\n",
      "<unstructured.documents.coordinates.PixelSpace object at 0x7f1d2605e7d0>\n",
      "Orientation.SCREEN\n",
      "1700\n",
      "2200\n"
     ]
    }
   ],
   "source": [
    "element = partitioned_elements[1]\n",
    "print(element.metadata.coordinates.to_dict())\n",
    "print(element.metadata.coordinates.system)\n",
    "print(element.metadata.coordinates.system.orientation)\n",
    "print(element.metadata.coordinates.system.width)\n",
    "print(element.metadata.coordinates.system.height)\n"
   ]
  },
  {
   "cell_type": "code",
   "execution_count": 30,
   "metadata": {},
   "outputs": [
    {
     "data": {
      "text/plain": [
       "Pixmap(DeviceRGB, IRect(0, 0, 646, 50), 0)"
      ]
     },
     "execution_count": 30,
     "metadata": {},
     "output_type": "execute_result"
    }
   ],
   "source": [
    "import fitz  # PyMuPDF\n",
    "\n",
    "def convert_pdf_to_jpg_with_quad(element, pdf_path, output_path, debug=False):\n",
    "    \"\"\"\n",
    "    Convert a PDF to JPG after cropping with given quadrilateral points, scaling them to fit the PDF page dimensions.\n",
    "    :param pdf_path: Path to the PDF file.\n",
    "    :param quad_points: A list of 4 tuples, each representing the corners of the quadrilateral.\n",
    "    :param output_path: Path to save the output JPG file.\n",
    "    :param pixel_sys_width: Width of the original pixel-based system.\n",
    "    :param pixel_sys_height: Height of the original pixel-based system.\n",
    "    \"\"\"\n",
    "    quad_points = element.metadata.coordinates.points\n",
    "    pixel_sys_width = element.metadata.coordinates.system.width\n",
    "    pixel_sys_height = element.metadata.coordinates.system.height\n",
    "    pdf_page_num = element.metadata.page_number\n",
    "\n",
    "\n",
    "    doc = fitz.open(pdf_path)\n",
    "    page = doc.load_page(pdf_page_num-1)\n",
    "    \n",
    "    # Get the dimensions of the PDF page in points\n",
    "    pdf_width, pdf_height = page.rect.width, page.rect.height\n",
    "    if debug:\n",
    "        print(\"beginning page cropbox: \", page.cropbox)\n",
    "        print(f\"pdf_width: {pdf_width}\")\n",
    "        print(f\"pdf_height: {pdf_height}\")\n",
    "\n",
    "    # Calculate scaling factors\n",
    "    scale_x = pdf_width / pixel_sys_width \n",
    "    scale_y = pdf_height / pixel_sys_height\n",
    "\n",
    "    # Transform and scale the coordinates\n",
    "    transformed_quad_points = []\n",
    "    for x, y in quad_points:\n",
    "        x_scaled = x * scale_x\n",
    "        y_scaled = y * scale_y\n",
    "\n",
    "        # Consider leaving this to raise if out of bounds \n",
    "        x_scaled = min(max(x_scaled, 0), pdf_width)\n",
    "        y_scaled = min(max(y_scaled, 0), pdf_height)\n",
    "\n",
    "        transformed_quad_points.append((x_scaled, y_scaled))\n",
    "\n",
    "\n",
    "    # Convert quadrilateral into a rectangle for cropping (minimal bounding box)\n",
    "    rect = fitz.Rect(fitz.Point(*transformed_quad_points[0]), fitz.Point(*transformed_quad_points[2]))\n",
    "\n",
    "    if debug:\n",
    "        print(\"original quad_points\", quad_points)\n",
    "        print(\"transformed_quad_points\", transformed_quad_points)\n",
    "        print(\"pdf dimensions\", pdf_width, pdf_height)\n",
    "        print(\"after page cropbox: \", page.cropbox)\n",
    "        print(\"after page mediabox: \", page.mediabox)\n",
    "        print(\"rect is: \", rect)\n",
    "\n",
    "    # Crop the page\n",
    "    page.set_cropbox(rect)\n",
    "\n",
    "    zoom_x = 2.0  # horizontal zoom\n",
    "    zoom_y = 2.0  # vertical zoom\n",
    "    mat = fitz.Matrix(zoom_x, zoom_y)  # zoom factor 2 in each dimension\n",
    "    pix = page.get_pixmap(matrix=mat)  # use 'mat' instead of the identity matrix\n",
    "\n",
    "    # Save the image as JPG\n",
    "    pix.save(output_path)\n",
    "\n",
    "    # Close the document\n",
    "    doc.close()\n",
    "    return pix\n",
    "\n",
    "# Example usage\n",
    "element = partitioned_elements[150]\n",
    "pdf_path = get_file_name(\".pdf\")\n",
    "output_path = f'{get_file_name()}_output.jpg'\n",
    "\n",
    "convert_pdf_to_jpg_with_quad(element, pdf_path, output_path)"
   ]
  },
  {
   "cell_type": "code",
   "execution_count": 31,
   "metadata": {},
   "outputs": [
    {
     "data": {
      "text/plain": [
       "14"
      ]
     },
     "execution_count": 31,
     "metadata": {},
     "output_type": "execute_result"
    }
   ],
   "source": [
    "partitioned_elements[200].metadata.page_number\n"
   ]
  },
  {
   "cell_type": "markdown",
   "metadata": {},
   "source": [
    "### Image to Latex"
   ]
  },
  {
   "cell_type": "markdown",
   "metadata": {},
   "source": []
  },
  {
   "cell_type": "code",
   "execution_count": 32,
   "metadata": {},
   "outputs": [],
   "source": [
    "from PIL import Image\n",
    "from pix2tex.cli import LatexOCR"
   ]
  },
  {
   "cell_type": "code",
   "execution_count": 33,
   "metadata": {},
   "outputs": [
    {
     "data": {
      "text/plain": [
       "{'message': 'OK', 'status-code': <HTTPStatus.OK: 200>, 'data': {}}"
      ]
     },
     "execution_count": 33,
     "metadata": {},
     "output_type": "execute_result"
    }
   ],
   "source": [
    "import pix2tex.api.app\n",
    "import asyncio\n",
    "pix2tex.api.app.root()"
   ]
  },
  {
   "cell_type": "code",
   "execution_count": 39,
   "metadata": {},
   "outputs": [
    {
     "name": "stdout",
     "output_type": "stream",
     "text": [
      "data\t\t      LICENSE\t       test.pdf\n",
      "generate_latex.ipynb  README.md        testpdf_images\n",
      "generate_latex.py     test_output.jpg  webdata_extraction_scripts\n"
     ]
    }
   ],
   "source": [
    "!ls"
   ]
  },
  {
   "cell_type": "code",
   "execution_count": 41,
   "metadata": {},
   "outputs": [
    {
     "data": {
      "image/jpeg": "[encoded data removed]",
      "image/png": "[encoded data removed]",
      "text/plain": [
       "<PIL.JpegImagePlugin.JpegImageFile image mode=RGB size=646x50>"
      ]
     },
     "metadata": {},
     "output_type": "display_data"
    },
    {
     "name": "stdout",
     "output_type": "stream",
     "text": [
      "\\begin{array}{c}{{X_{i}\\mid Y=P\\sim\\mathrm{{{Bernoulli}}}(p_{i})\\qquad\\qquad\\mathrm{independently~for~all~1\\leqi\\leqd~}}}\\\\ {{\\chi_{i}\\mid Y=Q\\sim\\mathrm{{Bernoulli}}(q_{i})\\qquad\\qquad\\mathrm{independently~fotall~1\\leqi\\leqi\\leqd~}}}\\end{array}\n"
     ]
    }
   ],
   "source": [
    "from PIL import Image\n",
    "from pix2tex.cli import LatexOCR\n",
    "\n",
    "img = Image.open('test_output.jpg')\n",
    "display(img)\n",
    "model = LatexOCR()\n",
    "result = model(img)\n",
    "print(result)"
   ]
  },
  {
   "cell_type": "code",
   "execution_count": 42,
   "metadata": {},
   "outputs": [],
   "source": [
    "\n",
    "\n",
    "# img = Path(\"test_output.png\") # Image.open('test_output.png').convert('RGB')\n",
    "# # model = LatexOCR()\n",
    "# # print(model(img))\n",
    "# display(img)\n",
    "# result = pix2tex.api.app.predict(img)\n",
    "\n",
    "# display(result)\n",
    "# print(type(result))\n",
    "# # print(asyncio.run(result))\n",
    "# await result"
   ]
  },
  {
   "cell_type": "markdown",
   "metadata": {},
   "source": [
    "## Combine together"
   ]
  },
  {
   "cell_type": "code",
   "execution_count": 43,
   "metadata": {},
   "outputs": [
    {
     "data": {
      "text/plain": [
       "<unstructured.documents.elements.ListItem at 0x7f1d40d71910>"
      ]
     },
     "execution_count": 43,
     "metadata": {},
     "output_type": "execute_result"
    }
   ],
   "source": [
    "element = partitioned_elements[151]\n",
    "element"
   ]
  },
  {
   "cell_type": "code",
   "execution_count": 81,
   "metadata": {},
   "outputs": [
    {
     "name": "stdout",
     "output_type": "stream",
     "text": [
      "test_151_output.jpg\n"
     ]
    },
    {
     "data": {
      "text/plain": [
       "Pixmap(DeviceRGB, IRect(0, 0, 996, 70), 0)"
      ]
     },
     "execution_count": 81,
     "metadata": {},
     "output_type": "execute_result"
    }
   ],
   "source": [
    "element_num = 151\n",
    "element = partitioned_elements[element_num]\n",
    "pdf_path = get_file_name(\".pdf\")\n",
    "output_path = f'{get_file_name()}_{element_num}_output.jpg'\n",
    "print(output_path)\n",
    "\n",
    "convert_pdf_to_jpg_with_quad(element, pdf_path, output_path)"
   ]
  },
  {
   "cell_type": "code",
   "execution_count": 82,
   "metadata": {},
   "outputs": [],
   "source": [
    "# from PIL import Image\n",
    "# from pix2tex.cli import LatexOCR"
   ]
  },
  {
   "cell_type": "code",
   "execution_count": 83,
   "metadata": {},
   "outputs": [],
   "source": [
    "# img"
   ]
  },
  {
   "cell_type": "code",
   "execution_count": 85,
   "metadata": {},
   "outputs": [
    {
     "data": {
      "image/jpeg": "[encoded data removed]",
      "image/png": "[encoded data removed]",
      "text/plain": [
       "<PIL.JpegImagePlugin.JpegImageFile image mode=RGB size=179x61>"
      ]
     },
     "metadata": {},
     "output_type": "display_data"
    },
    {
     "name": "stdout",
     "output_type": "stream",
     "text": [
      "{\\binom{0}{0}},{\\binom{0}{1}},{\\binom{0}{1}},{\\binom{1}{1}},{\\binom{0}{1}}\n"
     ]
    }
   ],
   "source": [
    "\n",
    "# img = Image.frombytes(\"RBG\", [pix.width, pix.height], pix.samples)\n",
    "img = Image.open('test_152_output.jpg')\n",
    "display(img)\n",
    "model = LatexOCR()\n",
    "result = model(img)\n",
    "print(result)"
   ]
  },
  {
   "cell_type": "code",
   "execution_count": 113,
   "metadata": {},
   "outputs": [
    {
     "name": "stdout",
     "output_type": "stream",
     "text": [
      "{\\binom{0}{0}},{\\binom{0}{1}},{\\binom{0}{1}},{\\binom{1}{1}},{\\binom{0}{1}}\n"
     ]
    },
    {
     "data": {
      "text/latex": [
       "${\\binom{0}{0}},{\\binom{0}{1}},{\\binom{0}{1}},{\\binom{1}{1}},{\\binom{0}{1}}$"
      ],
      "text/plain": [
       "<IPython.core.display.Latex object>"
      ]
     },
     "metadata": {},
     "output_type": "display_data"
    },
    {
     "data": {
      "text/latex": [
       "$\\hat{p}_{1}^{\\mathrm{M,E}}=\\mathrm{~\\qquad~}\\quad\\quad\\quad\\quad\\quad\\quad\\quad\\quad\\quad\\quad\\quad\\quad\\quad\\quad\\quad\\quad\\quad\\quad\\hat{p}_{2}^{\\mathrm{M,E}}=$"
      ],
      "text/plain": [
       "<IPython.core.display.Latex object>"
      ]
     },
     "metadata": {},
     "output_type": "display_data"
    }
   ],
   "source": [
    "from IPython.display import display, Latex\n",
    "result = \"{\\\\binom{0}{0}},{\\\\binom{0}{1}},{\\\\binom{0}{1}},{\\\\binom{1}{1}},{\\\\binom{0}{1}}\"\n",
    "result2 = \"\\hat{p}_{1}^{\\mathrm{M,E}}=\\mathrm{~\\qquad~}\\quad\\quad\\quad\\quad\\quad\\quad\\quad\\quad\\quad\\quad\\quad\\quad\\quad\\quad\\quad\\quad\\quad\\quad\\hat{p}_{2}^{\\mathrm{M,E}}=\"\n",
    "# try:\n",
    "print(result)\n",
    "dis = display(Latex(f'${result}$'))\n",
    "dis2 = display(Latex(f'${result2}$'))\n",
    "# display(type(Latex(f'${result2}$')))\n",
    "# except Exception as e:\n",
    "#     print(\"An error occurred:\", type(e).__name__, e)\n",
    "# except Parse as e:\n",
    "#     print(\"Error in LaTeX compilation:\")\n",
    "#     print(e)"
   ]
  },
  {
   "cell_type": "code",
   "execution_count": 114,
   "metadata": {},
   "outputs": [
    {
     "data": {
      "text/latex": [
       "${\\binom{0}{0}},{\\binom{0}{1}},{\\binom{0}{1}},{\\binom{1}{1}},{\\binom{0}{1}}$"
      ],
      "text/plain": [
       "<IPython.core.display.Latex object>"
      ]
     },
     "execution_count": 114,
     "metadata": {},
     "output_type": "execute_result"
    }
   ],
   "source": [
    "# display(dis)\n",
    "dis = Latex(f'${result}$')\n",
    "# print(dis.)\n",
    "dis"
   ]
  },
  {
   "cell_type": "markdown",
   "metadata": {},
   "source": [
    "# Loop it "
   ]
  },
  {
   "cell_type": "code",
   "execution_count": null,
   "metadata": {},
   "outputs": [],
   "source": []
  }
 ],
 "metadata": {
  "kernelspec": {
   "display_name": "Python 3",
   "language": "python",
   "name": "python3"
  },
  "language_info": {
   "codemirror_mode": {
    "name": "ipython",
    "version": 3
   },
   "file_extension": ".py",
   "mimetype": "text/x-python",
   "name": "python",
   "nbconvert_exporter": "python",
   "pygments_lexer": "ipython3",
   "version": "3.11.3"
  }
 },
 "nbformat": 4,
 "nbformat_minor": 2
}
