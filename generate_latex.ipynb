{
 "cells": [
  {
   "cell_type": "code",
   "execution_count": 1,
   "metadata": {},
   "outputs": [],
   "source": [
    "from pathlib import Path\n",
    "\n",
    "root = Path()\n",
    "children = list(root.iterdir())\n",
    "course_dirs = list(\n",
    "    filter(\n",
    "        lambda x: x.is_dir() and x.name not in [\".git\", \".DS_Store\"],\n",
    "        children,\n",
    "    )\n",
    ")\n",
    "course_names = list(map(lambda x: x.name, course_dirs))"
   ]
  },
  {
   "cell_type": "code",
   "execution_count": 2,
   "metadata": {},
   "outputs": [
    {
     "name": "stdout",
     "output_type": "stream",
     "text": [
      "Requirement already satisfied: unstructured in /home/reaganjlee/.conda/envs/ccs-env2/lib/python3.11/site-packages (0.11.2)\n",
      "Requirement already satisfied: chardet in /home/reaganjlee/.conda/envs/ccs-env2/lib/python3.11/site-packages (from unstructured) (5.2.0)\n",
      "Requirement already satisfied: filetype in /home/reaganjlee/.conda/envs/ccs-env2/lib/python3.11/site-packages (from unstructured) (1.2.0)\n",
      "Requirement already satisfied: python-magic in /home/reaganjlee/.conda/envs/ccs-env2/lib/python3.11/site-packages (from unstructured) (0.4.27)\n",
      "Requirement already satisfied: lxml in /home/reaganjlee/.conda/envs/ccs-env2/lib/python3.11/site-packages (from unstructured) (4.9.3)\n",
      "Requirement already satisfied: nltk in /home/reaganjlee/.conda/envs/ccs-env2/lib/python3.11/site-packages (from unstructured) (3.8.1)\n",
      "Requirement already satisfied: tabulate in /home/reaganjlee/.conda/envs/ccs-env2/lib/python3.11/site-packages (from unstructured) (0.9.0)\n",
      "Requirement already satisfied: requests in /home/reaganjlee/.conda/envs/ccs-env2/lib/python3.11/site-packages (from unstructured) (2.31.0)\n",
      "Requirement already satisfied: beautifulsoup4 in /home/reaganjlee/.conda/envs/ccs-env2/lib/python3.11/site-packages (from unstructured) (4.12.2)\n",
      "Requirement already satisfied: emoji in /home/reaganjlee/.conda/envs/ccs-env2/lib/python3.11/site-packages (from unstructured) (2.9.0)\n",
      "Requirement already satisfied: dataclasses-json in /home/reaganjlee/.conda/envs/ccs-env2/lib/python3.11/site-packages (from unstructured) (0.6.3)\n",
      "Requirement already satisfied: python-iso639 in /home/reaganjlee/.conda/envs/ccs-env2/lib/python3.11/site-packages (from unstructured) (2023.12.11)\n",
      "Requirement already satisfied: langdetect in /home/reaganjlee/.conda/envs/ccs-env2/lib/python3.11/site-packages (from unstructured) (1.0.9)\n",
      "Requirement already satisfied: numpy in /home/reaganjlee/.conda/envs/ccs-env2/lib/python3.11/site-packages (from unstructured) (1.24.3)\n",
      "Requirement already satisfied: rapidfuzz in /home/reaganjlee/.conda/envs/ccs-env2/lib/python3.11/site-packages (from unstructured) (3.5.2)\n",
      "Requirement already satisfied: backoff in /home/reaganjlee/.conda/envs/ccs-env2/lib/python3.11/site-packages (from unstructured) (2.2.1)\n",
      "Requirement already satisfied: typing-extensions in /home/reaganjlee/.conda/envs/ccs-env2/lib/python3.11/site-packages (from unstructured) (4.8.0)\n",
      "Requirement already satisfied: wrapt in /home/reaganjlee/.conda/envs/ccs-env2/lib/python3.11/site-packages (from unstructured) (1.16.0)\n",
      "Requirement already satisfied: soupsieve>1.2 in /home/reaganjlee/.conda/envs/ccs-env2/lib/python3.11/site-packages (from beautifulsoup4->unstructured) (2.5)\n",
      "Requirement already satisfied: marshmallow<4.0.0,>=3.18.0 in /home/reaganjlee/.conda/envs/ccs-env2/lib/python3.11/site-packages (from dataclasses-json->unstructured) (3.20.1)\n",
      "Requirement already satisfied: typing-inspect<1,>=0.4.0 in /home/reaganjlee/.conda/envs/ccs-env2/lib/python3.11/site-packages (from dataclasses-json->unstructured) (0.9.0)\n",
      "Requirement already satisfied: six in /home/reaganjlee/.conda/envs/ccs-env2/lib/python3.11/site-packages (from langdetect->unstructured) (1.16.0)\n",
      "Requirement already satisfied: click in /home/reaganjlee/.conda/envs/ccs-env2/lib/python3.11/site-packages (from nltk->unstructured) (8.1.3)\n",
      "Requirement already satisfied: joblib in /home/reaganjlee/.conda/envs/ccs-env2/lib/python3.11/site-packages (from nltk->unstructured) (1.2.0)\n",
      "Requirement already satisfied: regex>=2021.8.3 in /home/reaganjlee/.conda/envs/ccs-env2/lib/python3.11/site-packages (from nltk->unstructured) (2023.3.23)\n",
      "Requirement already satisfied: tqdm in /home/reaganjlee/.conda/envs/ccs-env2/lib/python3.11/site-packages (from nltk->unstructured) (4.65.0)\n",
      "Requirement already satisfied: charset-normalizer<4,>=2 in /home/reaganjlee/.conda/envs/ccs-env2/lib/python3.11/site-packages (from requests->unstructured) (3.3.2)\n",
      "Requirement already satisfied: idna<4,>=2.5 in /home/reaganjlee/.conda/envs/ccs-env2/lib/python3.11/site-packages (from requests->unstructured) (3.4)\n",
      "Requirement already satisfied: urllib3<3,>=1.21.1 in /home/reaganjlee/.conda/envs/ccs-env2/lib/python3.11/site-packages (from requests->unstructured) (1.26.18)\n",
      "Requirement already satisfied: certifi>=2017.4.17 in /home/reaganjlee/.conda/envs/ccs-env2/lib/python3.11/site-packages (from requests->unstructured) (2023.11.17)\n",
      "Requirement already satisfied: packaging>=17.0 in /home/reaganjlee/.conda/envs/ccs-env2/lib/python3.11/site-packages (from marshmallow<4.0.0,>=3.18.0->dataclasses-json->unstructured) (23.1)\n",
      "Requirement already satisfied: mypy-extensions>=0.3.0 in /home/reaganjlee/.conda/envs/ccs-env2/lib/python3.11/site-packages (from typing-inspect<1,>=0.4.0->dataclasses-json->unstructured) (1.0.0)\n",
      "Note: you may need to restart the kernel to use updated packages.\n",
      "Requirement already satisfied: unstructured[pdf] in /home/reaganjlee/.conda/envs/ccs-env2/lib/python3.11/site-packages (0.11.2)\n",
      "Requirement already satisfied: chardet in /home/reaganjlee/.conda/envs/ccs-env2/lib/python3.11/site-packages (from unstructured[pdf]) (5.2.0)\n",
      "Requirement already satisfied: filetype in /home/reaganjlee/.conda/envs/ccs-env2/lib/python3.11/site-packages (from unstructured[pdf]) (1.2.0)\n",
      "Requirement already satisfied: python-magic in /home/reaganjlee/.conda/envs/ccs-env2/lib/python3.11/site-packages (from unstructured[pdf]) (0.4.27)\n",
      "Requirement already satisfied: lxml in /home/reaganjlee/.conda/envs/ccs-env2/lib/python3.11/site-packages (from unstructured[pdf]) (4.9.3)\n",
      "Requirement already satisfied: nltk in /home/reaganjlee/.conda/envs/ccs-env2/lib/python3.11/site-packages (from unstructured[pdf]) (3.8.1)\n",
      "Requirement already satisfied: tabulate in /home/reaganjlee/.conda/envs/ccs-env2/lib/python3.11/site-packages (from unstructured[pdf]) (0.9.0)\n",
      "Requirement already satisfied: requests in /home/reaganjlee/.conda/envs/ccs-env2/lib/python3.11/site-packages (from unstructured[pdf]) (2.31.0)\n",
      "Requirement already satisfied: beautifulsoup4 in /home/reaganjlee/.conda/envs/ccs-env2/lib/python3.11/site-packages (from unstructured[pdf]) (4.12.2)\n",
      "Requirement already satisfied: emoji in /home/reaganjlee/.conda/envs/ccs-env2/lib/python3.11/site-packages (from unstructured[pdf]) (2.9.0)\n",
      "Requirement already satisfied: dataclasses-json in /home/reaganjlee/.conda/envs/ccs-env2/lib/python3.11/site-packages (from unstructured[pdf]) (0.6.3)\n",
      "Requirement already satisfied: python-iso639 in /home/reaganjlee/.conda/envs/ccs-env2/lib/python3.11/site-packages (from unstructured[pdf]) (2023.12.11)\n",
      "Requirement already satisfied: langdetect in /home/reaganjlee/.conda/envs/ccs-env2/lib/python3.11/site-packages (from unstructured[pdf]) (1.0.9)\n",
      "Requirement already satisfied: numpy in /home/reaganjlee/.conda/envs/ccs-env2/lib/python3.11/site-packages (from unstructured[pdf]) (1.24.3)\n",
      "Requirement already satisfied: rapidfuzz in /home/reaganjlee/.conda/envs/ccs-env2/lib/python3.11/site-packages (from unstructured[pdf]) (3.5.2)\n",
      "Requirement already satisfied: backoff in /home/reaganjlee/.conda/envs/ccs-env2/lib/python3.11/site-packages (from unstructured[pdf]) (2.2.1)\n",
      "Requirement already satisfied: typing-extensions in /home/reaganjlee/.conda/envs/ccs-env2/lib/python3.11/site-packages (from unstructured[pdf]) (4.8.0)\n",
      "Requirement already satisfied: wrapt in /home/reaganjlee/.conda/envs/ccs-env2/lib/python3.11/site-packages (from unstructured[pdf]) (1.16.0)\n",
      "Requirement already satisfied: onnx in /home/reaganjlee/.conda/envs/ccs-env2/lib/python3.11/site-packages (from unstructured[pdf]) (1.15.0)\n",
      "Requirement already satisfied: pdf2image in /home/reaganjlee/.conda/envs/ccs-env2/lib/python3.11/site-packages (from unstructured[pdf]) (1.16.3)\n",
      "Requirement already satisfied: pdfminer.six in /home/reaganjlee/.conda/envs/ccs-env2/lib/python3.11/site-packages (from unstructured[pdf]) (20221105)\n",
      "Requirement already satisfied: pikepdf in /home/reaganjlee/.conda/envs/ccs-env2/lib/python3.11/site-packages (from unstructured[pdf]) (8.9.0)\n",
      "Requirement already satisfied: pypdf in /home/reaganjlee/.conda/envs/ccs-env2/lib/python3.11/site-packages (from unstructured[pdf]) (3.17.2)\n",
      "Requirement already satisfied: unstructured-inference==0.7.15 in /home/reaganjlee/.conda/envs/ccs-env2/lib/python3.11/site-packages (from unstructured[pdf]) (0.7.15)\n",
      "Requirement already satisfied: unstructured.pytesseract>=0.3.12 in /home/reaganjlee/.conda/envs/ccs-env2/lib/python3.11/site-packages (from unstructured[pdf]) (0.3.12)\n",
      "Requirement already satisfied: layoutparser[layoutmodels,tesseract] in /home/reaganjlee/.conda/envs/ccs-env2/lib/python3.11/site-packages (from unstructured-inference==0.7.15->unstructured[pdf]) (0.3.4)\n",
      "Requirement already satisfied: python-multipart in /home/reaganjlee/.conda/envs/ccs-env2/lib/python3.11/site-packages (from unstructured-inference==0.7.15->unstructured[pdf]) (0.0.6)\n",
      "Requirement already satisfied: huggingface-hub in /home/reaganjlee/.conda/envs/ccs-env2/lib/python3.11/site-packages (from unstructured-inference==0.7.15->unstructured[pdf]) (0.17.3)\n",
      "Requirement already satisfied: opencv-python!=4.7.0.68 in /home/reaganjlee/.conda/envs/ccs-env2/lib/python3.11/site-packages (from unstructured-inference==0.7.15->unstructured[pdf]) (4.8.1.78)\n",
      "Requirement already satisfied: onnxruntime<1.16 in /home/reaganjlee/.conda/envs/ccs-env2/lib/python3.11/site-packages (from unstructured-inference==0.7.15->unstructured[pdf]) (1.15.1)\n",
      "Requirement already satisfied: transformers>=4.25.1 in /home/reaganjlee/.conda/envs/ccs-env2/lib/python3.11/site-packages (from unstructured-inference==0.7.15->unstructured[pdf]) (4.35.0)\n",
      "Requirement already satisfied: packaging>=21.3 in /home/reaganjlee/.conda/envs/ccs-env2/lib/python3.11/site-packages (from unstructured.pytesseract>=0.3.12->unstructured[pdf]) (23.1)\n",
      "Requirement already satisfied: Pillow>=8.0.0 in /home/reaganjlee/.conda/envs/ccs-env2/lib/python3.11/site-packages (from unstructured.pytesseract>=0.3.12->unstructured[pdf]) (10.1.0)\n",
      "Requirement already satisfied: soupsieve>1.2 in /home/reaganjlee/.conda/envs/ccs-env2/lib/python3.11/site-packages (from beautifulsoup4->unstructured[pdf]) (2.5)\n",
      "Requirement already satisfied: marshmallow<4.0.0,>=3.18.0 in /home/reaganjlee/.conda/envs/ccs-env2/lib/python3.11/site-packages (from dataclasses-json->unstructured[pdf]) (3.20.1)\n",
      "Requirement already satisfied: typing-inspect<1,>=0.4.0 in /home/reaganjlee/.conda/envs/ccs-env2/lib/python3.11/site-packages (from dataclasses-json->unstructured[pdf]) (0.9.0)\n",
      "Requirement already satisfied: six in /home/reaganjlee/.conda/envs/ccs-env2/lib/python3.11/site-packages (from langdetect->unstructured[pdf]) (1.16.0)\n",
      "Requirement already satisfied: click in /home/reaganjlee/.conda/envs/ccs-env2/lib/python3.11/site-packages (from nltk->unstructured[pdf]) (8.1.3)\n",
      "Requirement already satisfied: joblib in /home/reaganjlee/.conda/envs/ccs-env2/lib/python3.11/site-packages (from nltk->unstructured[pdf]) (1.2.0)\n",
      "Requirement already satisfied: regex>=2021.8.3 in /home/reaganjlee/.conda/envs/ccs-env2/lib/python3.11/site-packages (from nltk->unstructured[pdf]) (2023.3.23)\n",
      "Requirement already satisfied: tqdm in /home/reaganjlee/.conda/envs/ccs-env2/lib/python3.11/site-packages (from nltk->unstructured[pdf]) (4.65.0)\n",
      "Requirement already satisfied: protobuf>=3.20.2 in /home/reaganjlee/.conda/envs/ccs-env2/lib/python3.11/site-packages (from onnx->unstructured[pdf]) (3.20.3)\n",
      "Requirement already satisfied: charset-normalizer>=2.0.0 in /home/reaganjlee/.conda/envs/ccs-env2/lib/python3.11/site-packages (from pdfminer.six->unstructured[pdf]) (3.3.2)\n",
      "Requirement already satisfied: cryptography>=36.0.0 in /home/reaganjlee/.conda/envs/ccs-env2/lib/python3.11/site-packages (from pdfminer.six->unstructured[pdf]) (41.0.7)\n",
      "Requirement already satisfied: Deprecated in /home/reaganjlee/.conda/envs/ccs-env2/lib/python3.11/site-packages (from pikepdf->unstructured[pdf]) (1.2.14)\n",
      "Requirement already satisfied: idna<4,>=2.5 in /home/reaganjlee/.conda/envs/ccs-env2/lib/python3.11/site-packages (from requests->unstructured[pdf]) (3.4)\n",
      "Requirement already satisfied: urllib3<3,>=1.21.1 in /home/reaganjlee/.conda/envs/ccs-env2/lib/python3.11/site-packages (from requests->unstructured[pdf]) (1.26.18)\n",
      "Requirement already satisfied: certifi>=2017.4.17 in /home/reaganjlee/.conda/envs/ccs-env2/lib/python3.11/site-packages (from requests->unstructured[pdf]) (2023.11.17)\n",
      "Requirement already satisfied: cffi>=1.12 in /home/reaganjlee/.conda/envs/ccs-env2/lib/python3.11/site-packages (from cryptography>=36.0.0->pdfminer.six->unstructured[pdf]) (1.16.0)\n",
      "Requirement already satisfied: coloredlogs in /home/reaganjlee/.conda/envs/ccs-env2/lib/python3.11/site-packages (from onnxruntime<1.16->unstructured-inference==0.7.15->unstructured[pdf]) (15.0.1)\n",
      "Requirement already satisfied: flatbuffers in /home/reaganjlee/.conda/envs/ccs-env2/lib/python3.11/site-packages (from onnxruntime<1.16->unstructured-inference==0.7.15->unstructured[pdf]) (23.5.26)\n",
      "Requirement already satisfied: sympy in /home/reaganjlee/.conda/envs/ccs-env2/lib/python3.11/site-packages (from onnxruntime<1.16->unstructured-inference==0.7.15->unstructured[pdf]) (1.11.1)\n",
      "Requirement already satisfied: filelock in /home/reaganjlee/.conda/envs/ccs-env2/lib/python3.11/site-packages (from transformers>=4.25.1->unstructured-inference==0.7.15->unstructured[pdf]) (3.12.0)\n",
      "Requirement already satisfied: pyyaml>=5.1 in /home/reaganjlee/.conda/envs/ccs-env2/lib/python3.11/site-packages (from transformers>=4.25.1->unstructured-inference==0.7.15->unstructured[pdf]) (6.0)\n",
      "Requirement already satisfied: tokenizers<0.15,>=0.14 in /home/reaganjlee/.conda/envs/ccs-env2/lib/python3.11/site-packages (from transformers>=4.25.1->unstructured-inference==0.7.15->unstructured[pdf]) (0.14.1)\n",
      "Requirement already satisfied: safetensors>=0.3.1 in /home/reaganjlee/.conda/envs/ccs-env2/lib/python3.11/site-packages (from transformers>=4.25.1->unstructured-inference==0.7.15->unstructured[pdf]) (0.4.0)\n",
      "Requirement already satisfied: fsspec in /home/reaganjlee/.conda/envs/ccs-env2/lib/python3.11/site-packages (from huggingface-hub->unstructured-inference==0.7.15->unstructured[pdf]) (2023.10.0)\n",
      "Requirement already satisfied: mypy-extensions>=0.3.0 in /home/reaganjlee/.conda/envs/ccs-env2/lib/python3.11/site-packages (from typing-inspect<1,>=0.4.0->dataclasses-json->unstructured[pdf]) (1.0.0)\n",
      "Requirement already satisfied: scipy in /home/reaganjlee/.conda/envs/ccs-env2/lib/python3.11/site-packages (from layoutparser[layoutmodels,tesseract]->unstructured-inference==0.7.15->unstructured[pdf]) (1.11.4)\n",
      "Requirement already satisfied: pandas in /home/reaganjlee/.conda/envs/ccs-env2/lib/python3.11/site-packages (from layoutparser[layoutmodels,tesseract]->unstructured-inference==0.7.15->unstructured[pdf]) (2.0.1)\n",
      "Requirement already satisfied: iopath in /home/reaganjlee/.conda/envs/ccs-env2/lib/python3.11/site-packages (from layoutparser[layoutmodels,tesseract]->unstructured-inference==0.7.15->unstructured[pdf]) (0.1.10)\n",
      "Requirement already satisfied: pdfplumber in /home/reaganjlee/.conda/envs/ccs-env2/lib/python3.11/site-packages (from layoutparser[layoutmodels,tesseract]->unstructured-inference==0.7.15->unstructured[pdf]) (0.10.3)\n",
      "Requirement already satisfied: torch in /home/reaganjlee/.conda/envs/ccs-env2/lib/python3.11/site-packages (from layoutparser[layoutmodels,tesseract]->unstructured-inference==0.7.15->unstructured[pdf]) (2.0.1)\n",
      "Requirement already satisfied: torchvision in /home/reaganjlee/.conda/envs/ccs-env2/lib/python3.11/site-packages (from layoutparser[layoutmodels,tesseract]->unstructured-inference==0.7.15->unstructured[pdf]) (0.15.2)\n",
      "Requirement already satisfied: effdet in /home/reaganjlee/.conda/envs/ccs-env2/lib/python3.11/site-packages (from layoutparser[layoutmodels,tesseract]->unstructured-inference==0.7.15->unstructured[pdf]) (0.4.1)\n",
      "Requirement already satisfied: pytesseract in /home/reaganjlee/.conda/envs/ccs-env2/lib/python3.11/site-packages (from layoutparser[layoutmodels,tesseract]->unstructured-inference==0.7.15->unstructured[pdf]) (0.3.10)\n",
      "Requirement already satisfied: pycparser in /home/reaganjlee/.conda/envs/ccs-env2/lib/python3.11/site-packages (from cffi>=1.12->cryptography>=36.0.0->pdfminer.six->unstructured[pdf]) (2.21)\n",
      "Requirement already satisfied: humanfriendly>=9.1 in /home/reaganjlee/.conda/envs/ccs-env2/lib/python3.11/site-packages (from coloredlogs->onnxruntime<1.16->unstructured-inference==0.7.15->unstructured[pdf]) (10.0)\n",
      "Requirement already satisfied: timm>=0.9.2 in /home/reaganjlee/.conda/envs/ccs-env2/lib/python3.11/site-packages (from effdet->layoutparser[layoutmodels,tesseract]->unstructured-inference==0.7.15->unstructured[pdf]) (0.9.12)\n",
      "Requirement already satisfied: pycocotools>=2.0.2 in /home/reaganjlee/.conda/envs/ccs-env2/lib/python3.11/site-packages (from effdet->layoutparser[layoutmodels,tesseract]->unstructured-inference==0.7.15->unstructured[pdf]) (2.0.7)\n",
      "Requirement already satisfied: omegaconf>=2.0 in /home/reaganjlee/.conda/envs/ccs-env2/lib/python3.11/site-packages (from effdet->layoutparser[layoutmodels,tesseract]->unstructured-inference==0.7.15->unstructured[pdf]) (2.3.0)\n",
      "Requirement already satisfied: networkx in /home/reaganjlee/.conda/envs/ccs-env2/lib/python3.11/site-packages (from torch->layoutparser[layoutmodels,tesseract]->unstructured-inference==0.7.15->unstructured[pdf]) (3.1)\n",
      "Requirement already satisfied: jinja2 in /home/reaganjlee/.conda/envs/ccs-env2/lib/python3.11/site-packages (from torch->layoutparser[layoutmodels,tesseract]->unstructured-inference==0.7.15->unstructured[pdf]) (3.1.2)\n",
      "Requirement already satisfied: nvidia-cuda-nvrtc-cu11==11.7.99 in /home/reaganjlee/.conda/envs/ccs-env2/lib/python3.11/site-packages (from torch->layoutparser[layoutmodels,tesseract]->unstructured-inference==0.7.15->unstructured[pdf]) (11.7.99)\n",
      "Requirement already satisfied: nvidia-cuda-runtime-cu11==11.7.99 in /home/reaganjlee/.conda/envs/ccs-env2/lib/python3.11/site-packages (from torch->layoutparser[layoutmodels,tesseract]->unstructured-inference==0.7.15->unstructured[pdf]) (11.7.99)\n",
      "Requirement already satisfied: nvidia-cuda-cupti-cu11==11.7.101 in /home/reaganjlee/.conda/envs/ccs-env2/lib/python3.11/site-packages (from torch->layoutparser[layoutmodels,tesseract]->unstructured-inference==0.7.15->unstructured[pdf]) (11.7.101)\n",
      "Requirement already satisfied: nvidia-cudnn-cu11==8.5.0.96 in /home/reaganjlee/.conda/envs/ccs-env2/lib/python3.11/site-packages (from torch->layoutparser[layoutmodels,tesseract]->unstructured-inference==0.7.15->unstructured[pdf]) (8.5.0.96)\n",
      "Requirement already satisfied: nvidia-cublas-cu11==11.10.3.66 in /home/reaganjlee/.conda/envs/ccs-env2/lib/python3.11/site-packages (from torch->layoutparser[layoutmodels,tesseract]->unstructured-inference==0.7.15->unstructured[pdf]) (11.10.3.66)\n",
      "Requirement already satisfied: nvidia-cufft-cu11==10.9.0.58 in /home/reaganjlee/.conda/envs/ccs-env2/lib/python3.11/site-packages (from torch->layoutparser[layoutmodels,tesseract]->unstructured-inference==0.7.15->unstructured[pdf]) (10.9.0.58)\n",
      "Requirement already satisfied: nvidia-curand-cu11==10.2.10.91 in /home/reaganjlee/.conda/envs/ccs-env2/lib/python3.11/site-packages (from torch->layoutparser[layoutmodels,tesseract]->unstructured-inference==0.7.15->unstructured[pdf]) (10.2.10.91)\n",
      "Requirement already satisfied: nvidia-cusolver-cu11==11.4.0.1 in /home/reaganjlee/.conda/envs/ccs-env2/lib/python3.11/site-packages (from torch->layoutparser[layoutmodels,tesseract]->unstructured-inference==0.7.15->unstructured[pdf]) (11.4.0.1)\n",
      "Requirement already satisfied: nvidia-cusparse-cu11==11.7.4.91 in /home/reaganjlee/.conda/envs/ccs-env2/lib/python3.11/site-packages (from torch->layoutparser[layoutmodels,tesseract]->unstructured-inference==0.7.15->unstructured[pdf]) (11.7.4.91)\n",
      "Requirement already satisfied: nvidia-nccl-cu11==2.14.3 in /home/reaganjlee/.conda/envs/ccs-env2/lib/python3.11/site-packages (from torch->layoutparser[layoutmodels,tesseract]->unstructured-inference==0.7.15->unstructured[pdf]) (2.14.3)\n",
      "Requirement already satisfied: nvidia-nvtx-cu11==11.7.91 in /home/reaganjlee/.conda/envs/ccs-env2/lib/python3.11/site-packages (from torch->layoutparser[layoutmodels,tesseract]->unstructured-inference==0.7.15->unstructured[pdf]) (11.7.91)\n",
      "Requirement already satisfied: triton==2.0.0 in /home/reaganjlee/.conda/envs/ccs-env2/lib/python3.11/site-packages (from torch->layoutparser[layoutmodels,tesseract]->unstructured-inference==0.7.15->unstructured[pdf]) (2.0.0)\n",
      "Requirement already satisfied: setuptools in /home/reaganjlee/.conda/envs/ccs-env2/lib/python3.11/site-packages (from nvidia-cublas-cu11==11.10.3.66->torch->layoutparser[layoutmodels,tesseract]->unstructured-inference==0.7.15->unstructured[pdf]) (66.0.0)\n",
      "Requirement already satisfied: wheel in /home/reaganjlee/.conda/envs/ccs-env2/lib/python3.11/site-packages (from nvidia-cublas-cu11==11.10.3.66->torch->layoutparser[layoutmodels,tesseract]->unstructured-inference==0.7.15->unstructured[pdf]) (0.38.4)\n",
      "Requirement already satisfied: cmake in /home/reaganjlee/.conda/envs/ccs-env2/lib/python3.11/site-packages (from triton==2.0.0->torch->layoutparser[layoutmodels,tesseract]->unstructured-inference==0.7.15->unstructured[pdf]) (3.26.3)\n",
      "Requirement already satisfied: lit in /home/reaganjlee/.conda/envs/ccs-env2/lib/python3.11/site-packages (from triton==2.0.0->torch->layoutparser[layoutmodels,tesseract]->unstructured-inference==0.7.15->unstructured[pdf]) (16.0.2)\n",
      "Requirement already satisfied: portalocker in /home/reaganjlee/.conda/envs/ccs-env2/lib/python3.11/site-packages (from iopath->layoutparser[layoutmodels,tesseract]->unstructured-inference==0.7.15->unstructured[pdf]) (2.8.2)\n",
      "Requirement already satisfied: python-dateutil>=2.8.2 in /home/reaganjlee/.conda/envs/ccs-env2/lib/python3.11/site-packages (from pandas->layoutparser[layoutmodels,tesseract]->unstructured-inference==0.7.15->unstructured[pdf]) (2.8.2)\n",
      "Requirement already satisfied: pytz>=2020.1 in /home/reaganjlee/.conda/envs/ccs-env2/lib/python3.11/site-packages (from pandas->layoutparser[layoutmodels,tesseract]->unstructured-inference==0.7.15->unstructured[pdf]) (2023.3)\n",
      "Requirement already satisfied: tzdata>=2022.1 in /home/reaganjlee/.conda/envs/ccs-env2/lib/python3.11/site-packages (from pandas->layoutparser[layoutmodels,tesseract]->unstructured-inference==0.7.15->unstructured[pdf]) (2023.3)\n",
      "Requirement already satisfied: pypdfium2>=4.18.0 in /home/reaganjlee/.conda/envs/ccs-env2/lib/python3.11/site-packages (from pdfplumber->layoutparser[layoutmodels,tesseract]->unstructured-inference==0.7.15->unstructured[pdf]) (4.25.0)\n",
      "Requirement already satisfied: mpmath>=0.19 in /home/reaganjlee/.conda/envs/ccs-env2/lib/python3.11/site-packages (from sympy->onnxruntime<1.16->unstructured-inference==0.7.15->unstructured[pdf]) (1.3.0)\n",
      "Requirement already satisfied: antlr4-python3-runtime==4.9.* in /home/reaganjlee/.conda/envs/ccs-env2/lib/python3.11/site-packages (from omegaconf>=2.0->effdet->layoutparser[layoutmodels,tesseract]->unstructured-inference==0.7.15->unstructured[pdf]) (4.9.3)\n",
      "Requirement already satisfied: matplotlib>=2.1.0 in /home/reaganjlee/.conda/envs/ccs-env2/lib/python3.11/site-packages (from pycocotools>=2.0.2->effdet->layoutparser[layoutmodels,tesseract]->unstructured-inference==0.7.15->unstructured[pdf]) (3.8.1)\n",
      "Requirement already satisfied: MarkupSafe>=2.0 in /home/reaganjlee/.conda/envs/ccs-env2/lib/python3.11/site-packages (from jinja2->torch->layoutparser[layoutmodels,tesseract]->unstructured-inference==0.7.15->unstructured[pdf]) (2.1.2)\n",
      "Requirement already satisfied: contourpy>=1.0.1 in /home/reaganjlee/.conda/envs/ccs-env2/lib/python3.11/site-packages (from matplotlib>=2.1.0->pycocotools>=2.0.2->effdet->layoutparser[layoutmodels,tesseract]->unstructured-inference==0.7.15->unstructured[pdf]) (1.2.0)\n",
      "Requirement already satisfied: cycler>=0.10 in /home/reaganjlee/.conda/envs/ccs-env2/lib/python3.11/site-packages (from matplotlib>=2.1.0->pycocotools>=2.0.2->effdet->layoutparser[layoutmodels,tesseract]->unstructured-inference==0.7.15->unstructured[pdf]) (0.12.1)\n",
      "Requirement already satisfied: fonttools>=4.22.0 in /home/reaganjlee/.conda/envs/ccs-env2/lib/python3.11/site-packages (from matplotlib>=2.1.0->pycocotools>=2.0.2->effdet->layoutparser[layoutmodels,tesseract]->unstructured-inference==0.7.15->unstructured[pdf]) (4.44.0)\n",
      "Requirement already satisfied: kiwisolver>=1.3.1 in /home/reaganjlee/.conda/envs/ccs-env2/lib/python3.11/site-packages (from matplotlib>=2.1.0->pycocotools>=2.0.2->effdet->layoutparser[layoutmodels,tesseract]->unstructured-inference==0.7.15->unstructured[pdf]) (1.4.5)\n",
      "Requirement already satisfied: pyparsing>=2.3.1 in /home/reaganjlee/.conda/envs/ccs-env2/lib/python3.11/site-packages (from matplotlib>=2.1.0->pycocotools>=2.0.2->effdet->layoutparser[layoutmodels,tesseract]->unstructured-inference==0.7.15->unstructured[pdf]) (3.1.1)\n",
      "Note: you may need to restart the kernel to use updated packages.\n"
     ]
    }
   ],
   "source": [
    "%pip install 'unstructured'\n",
    "%pip install 'unstructured[pdf]'"
   ]
  },
  {
   "cell_type": "code",
   "execution_count": 3,
   "metadata": {},
   "outputs": [
    {
     "name": "stdout",
     "output_type": "stream",
     "text": [
      "unstructured              0.11.2\n",
      "unstructured-client       0.15.0\n",
      "unstructured-inference    0.7.15\n",
      "unstructured.pytesseract  0.3.12\n",
      "Note: you may need to restart the kernel to use updated packages.\n"
     ]
    }
   ],
   "source": [
    "%pip list | grep unstructured"
   ]
  },
  {
   "cell_type": "code",
   "execution_count": 4,
   "metadata": {},
   "outputs": [],
   "source": [
    "# from unstructured.partition.auto import partition\n"
   ]
  },
  {
   "cell_type": "code",
   "execution_count": 5,
   "metadata": {},
   "outputs": [
    {
     "name": "stderr",
     "output_type": "stream",
     "text": [
      "/home/reaganjlee/.conda/envs/ccs-env2/lib/python3.11/site-packages/tqdm/auto.py:21: TqdmWarning: IProgress not found. Please update jupyter and ipywidgets. See https://ipywidgets.readthedocs.io/en/stable/user_install.html\n",
      "  from .autonotebook import tqdm as notebook_tqdm\n",
      "/home/reaganjlee/.conda/envs/ccs-env2/lib/python3.11/site-packages/torch/cuda/__init__.py:107: UserWarning: CUDA initialization: Unexpected error from cudaGetDeviceCount(). Did you run some cuda functions before calling NumCudaDevices() that might have already set an error? Error 101: invalid device ordinal (Triggered internally at ../c10/cuda/CUDAFunctions.cpp:109.)\n",
      "  return torch._C._cuda_getDeviceCount() > 0\n"
     ]
    }
   ],
   "source": [
    "import unstructured.partition.pdf as pdf\n",
    "# from unstructured.partition.pdf import partition_pdf\n"
   ]
  },
  {
   "cell_type": "code",
   "execution_count": 6,
   "metadata": {},
   "outputs": [
    {
     "name": "stdout",
     "output_type": "stream",
     "text": [
      "(filename: str = '', file: Union[BinaryIO, tempfile.SpooledTemporaryFile, NoneType] = None, include_page_breaks: bool = False, strategy: str = 'auto', infer_table_structure: bool = False, ocr_languages: Optional[str] = None, languages: Optional[List[str]] = None, include_metadata: bool = True, metadata_filename: Optional[str] = None, metadata_last_modified: Optional[str] = None, chunking_strategy: Optional[str] = None, links: Sequence[unstructured.documents.elements.Link] = [], extract_images_in_pdf: bool = False, image_output_dir_path: Optional[str] = None, **kwargs) -> List[unstructured.documents.elements.Element]\n"
     ]
    }
   ],
   "source": [
    "import inspect \n",
    "print(inspect.signature(pdf.partition_pdf))"
   ]
  },
  {
   "cell_type": "code",
   "execution_count": 96,
   "metadata": {},
   "outputs": [],
   "source": [
    "base_name = \"test\"\n",
    "def get_file_name(ending=\"\", base_name=base_name):\n",
    "    return f\"{base_name}{ending}\"\n"
   ]
  },
  {
   "cell_type": "code",
   "execution_count": 95,
   "metadata": {},
   "outputs": [],
   "source": [
    "partitioned_elements = pdf.partition_pdf(\n",
    "    get_file_name(\".pdf\"),\n",
    "    include_page_breaks=True,\n",
    "    strategy=\"hi_res\",\n",
    "    infer_table_structure=True,\n",
    "    extract_images_in_pdf=True,\n",
    "    output_type=\"dict\",\n",
    "    image_output_dir_path=\"testpdf_images\",\n",
    ")"
   ]
  },
  {
   "cell_type": "code",
   "execution_count": 91,
   "metadata": {},
   "outputs": [
    {
     "data": {
      "text/plain": [
       "230"
      ]
     },
     "execution_count": 91,
     "metadata": {},
     "output_type": "execute_result"
    }
   ],
   "source": [
    "len(partitioned_elements)"
   ]
  },
  {
   "cell_type": "code",
   "execution_count": 16,
   "metadata": {},
   "outputs": [
    {
     "data": {
      "text/plain": [
       "[<unstructured.documents.elements.Title at 0x7f87243bdd10>,\n",
       " <unstructured.documents.elements.Image at 0x7f8724434ed0>,\n",
       " <unstructured.documents.elements.ListItem at 0x7f8724434c50>,\n",
       " <unstructured.documents.elements.ListItem at 0x7f87244354d0>,\n",
       " <unstructured.documents.elements.ListItem at 0x7f87244345d0>]"
      ]
     },
     "execution_count": 16,
     "metadata": {},
     "output_type": "execute_result"
    }
   ],
   "source": [
    "partitioned_elements[:5]"
   ]
  },
  {
   "cell_type": "code",
   "execution_count": 19,
   "metadata": {},
   "outputs": [
    {
     "data": {
      "text/plain": [
       "((1260.1981201171875, 169.6866455078125),\n",
       " (1260.1981201171875, 252.9463277777776),\n",
       " (1523.743408203125, 252.9463277777776),\n",
       " (1523.743408203125, 169.6866455078125))"
      ]
     },
     "execution_count": 19,
     "metadata": {},
     "output_type": "execute_result"
    }
   ],
   "source": [
    "partitioned_elements[1].metadata.coordinates.points"
   ]
  },
  {
   "cell_type": "code",
   "execution_count": 14,
   "metadata": {},
   "outputs": [
    {
     "name": "stdout",
     "output_type": "stream",
     "text": [
      "<class 'list'>\n",
      "First name Last name SID First and last name of student to your left First and last name of student to your right\n",
      "<class 'unstructured.documents.elements.Table'>\n"
     ]
    }
   ],
   "source": [
    "print(type(partitioned_elements))\n",
    "print(partitioned_elements[10])\n",
    "print(type(partitioned_elements[10]))"
   ]
  },
  {
   "cell_type": "code",
   "execution_count": 10,
   "metadata": {},
   "outputs": [
    {
     "name": "stdout",
     "output_type": "stream",
     "text": [
      "First name Last name SID First and last name of student to your left First and last name of student to your right\n",
      "\n",
      "1\n",
      "\n",
      "\n",
      "\n",
      "Q1. [60 pts] Multiple Answer\n",
      "\n",
      "Fill in the bubbles for ALL correct choices: there may be more than one correct choice, but there is always at least one correct choice. NO partial credit: the set of all correct answers must be checked.\n",
      "\n",
      "1+exp θ ) for some θ ∈ R. What is the MLE estimator of θ? 1 (a) [3 pts] Let X ∼ Bernoulli(\n",
      "\n",
      "(cid:13) X (cid:13) 0 (cid:13) 1\n",
      "\n",
      "(cid:13) Does not exist.\n",
      "\n",
      "(b) [3 pts] Let Y ∼ N(Xθ, In) for some unknown θ ∈ Rd and some known X ∈ Rn×d that has full column rank and d < n. What is the MLE estimator of θ?\n",
      "\n",
      "(cid:13) Y + Z ∀Z ∈ Null(X)\n",
      "\n",
      "(cid:13) (X(cid:62)X)−1X(cid:62)Y (cid:13) X(cid:62)(XX(cid:62))−1Y (cid:13) Does not exist.\n",
      "\n",
      "(c) [3 pts] Let f (x) = − (cid:80)n\n",
      "\n",
      "i=1 xi log xi. For some x such that (cid:80)n\n",
      "\n",
      "i=1 xi = 1 and xi > 0, the Hessian of f is:\n",
      "\n",
      "(c) [3 pts] Let f(x) = — 0, x log x;. For some x such that >\\7_, x; = 1 and x; > 0, the Hessian of f is:\n",
      "\n"
     ]
    }
   ],
   "source": [
    "for i in range(10, 25):\n",
    "    print(partitioned_elements[i])\n",
    "    print()"
   ]
  },
  {
   "cell_type": "markdown",
   "metadata": {},
   "source": [
    "### Get Image from coordinates \n"
   ]
  },
  {
   "cell_type": "code",
   "execution_count": 51,
   "metadata": {},
   "outputs": [
    {
     "name": "stdout",
     "output_type": "stream",
     "text": [
      "{'points': ((1260.1981201171875, 169.6866455078125), (1260.1981201171875, 252.9463277777776), (1523.743408203125, 252.9463277777776), (1523.743408203125, 169.6866455078125)), 'system': 'PixelSpace', 'layout_width': 1700, 'layout_height': 2200}\n",
      "<unstructured.documents.coordinates.PixelSpace object at 0x7f8726df7890>\n",
      "Orientation.SCREEN\n",
      "1700\n",
      "2200\n"
     ]
    }
   ],
   "source": [
    "element = partitioned_elements[1]\n",
    "print(element.metadata.coordinates.to_dict())\n",
    "print(element.metadata.coordinates.system)\n",
    "print(element.metadata.coordinates.system.orientation)\n",
    "print(element.metadata.coordinates.system.width)\n",
    "print(element.metadata.coordinates.system.height)\n"
   ]
  },
  {
   "cell_type": "code",
   "execution_count": 112,
   "metadata": {},
   "outputs": [],
   "source": [
    "import fitz  # PyMuPDF\n",
    "\n",
    "def convert_pdf_to_jpg_with_quad(element, pdf_path, output_path, debug=False):\n",
    "    \"\"\"\n",
    "    Convert a PDF to JPG after cropping with given quadrilateral points, scaling them to fit the PDF page dimensions.\n",
    "    :param pdf_path: Path to the PDF file.\n",
    "    :param quad_points: A list of 4 tuples, each representing the corners of the quadrilateral.\n",
    "    :param output_path: Path to save the output JPG file.\n",
    "    :param pixel_sys_width: Width of the original pixel-based system.\n",
    "    :param pixel_sys_height: Height of the original pixel-based system.\n",
    "    \"\"\"\n",
    "    quad_points = element.metadata.coordinates.points\n",
    "    pixel_sys_width = element.metadata.coordinates.system.width\n",
    "    pixel_sys_height = element.metadata.coordinates.system.height\n",
    "    pdf_page_num = element.metadata.page_number\n",
    "\n",
    "\n",
    "    doc = fitz.open(pdf_path)\n",
    "    page = doc.load_page(pdf_page_num-1)\n",
    "    \n",
    "    # Get the dimensions of the PDF page in points\n",
    "    pdf_width, pdf_height = page.rect.width, page.rect.height\n",
    "    if debug:\n",
    "        print(\"beginning page cropbox: \", page.cropbox)\n",
    "        print(f\"pdf_width: {pdf_width}\")\n",
    "        print(f\"pdf_height: {pdf_height}\")\n",
    "\n",
    "    # Calculate scaling factors\n",
    "    scale_x = pdf_width / pixel_sys_width \n",
    "    scale_y = pdf_height / pixel_sys_height\n",
    "\n",
    "    # Transform and scale the coordinates\n",
    "    transformed_quad_points = []\n",
    "    for x, y in quad_points:\n",
    "        x_scaled = x * scale_x\n",
    "        y_scaled = y * scale_y\n",
    "\n",
    "        # Consider leaving this to raise if out of bounds \n",
    "        x_scaled = min(max(x_scaled, 0), pdf_width)\n",
    "        y_scaled = min(max(y_scaled, 0), pdf_height)\n",
    "\n",
    "        transformed_quad_points.append((x_scaled, y_scaled))\n",
    "\n",
    "\n",
    "    # Convert quadrilateral into a rectangle for cropping (minimal bounding box)\n",
    "    rect = fitz.Rect(fitz.Point(*transformed_quad_points[0]), fitz.Point(*transformed_quad_points[2]))\n",
    "\n",
    "    if debug:\n",
    "        print(\"original quad_points\", quad_points)\n",
    "        print(\"transformed_quad_points\", transformed_quad_points)\n",
    "        print(\"pdf dimensions\", pdf_width, pdf_height)\n",
    "        print(\"after page cropbox: \", page.cropbox)\n",
    "        print(\"after page mediabox: \", page.mediabox)\n",
    "        print(\"rect is: \", rect)\n",
    "\n",
    "    # Crop the page\n",
    "    page.set_cropbox(rect)\n",
    "\n",
    "    zoom_x = 2.0  # horizontal zoom\n",
    "    zoom_y = 2.0  # vertical zoom\n",
    "    mat = fitz.Matrix(zoom_x, zoom_y)  # zoom factor 2 in each dimension\n",
    "    pix = page.get_pixmap(matrix=mat)  # use 'mat' instead of the identity matrix\n",
    "\n",
    "    # Save the image as JPG\n",
    "    pix.save(output_path)\n",
    "\n",
    "    # Close the document\n",
    "    doc.close()\n",
    "\n",
    "# Example usage\n",
    "element = partitioned_elements[150]\n",
    "pdf_path = get_file_name(\".pdf\")\n",
    "output_path = f'{get_file_name()}_output.jpg'\n",
    "\n",
    "convert_pdf_to_jpg_with_quad(element, pdf_path, output_path)"
   ]
  },
  {
   "cell_type": "code",
   "execution_count": 104,
   "metadata": {},
   "outputs": [
    {
     "data": {
      "text/plain": [
       "14"
      ]
     },
     "execution_count": 104,
     "metadata": {},
     "output_type": "execute_result"
    }
   ],
   "source": [
    "partitioned_elements[200].metadata.page_number\n"
   ]
  }
 ],
 "metadata": {
  "kernelspec": {
   "display_name": "Python 3",
   "language": "python",
   "name": "python3"
  },
  "language_info": {
   "codemirror_mode": {
    "name": "ipython",
    "version": 3
   },
   "file_extension": ".py",
   "mimetype": "text/x-python",
   "name": "python",
   "nbconvert_exporter": "python",
   "pygments_lexer": "ipython3",
   "version": "3.11.3"
  }
 },
 "nbformat": 4,
 "nbformat_minor": 2
}
