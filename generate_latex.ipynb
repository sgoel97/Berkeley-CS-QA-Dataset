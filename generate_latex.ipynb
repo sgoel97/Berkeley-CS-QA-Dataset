{
 "cells": [
  {
   "cell_type": "code",
   "execution_count": 1,
   "metadata": {},
   "outputs": [],
   "source": [
    "from pathlib import Path\n",
    "\n",
    "root = Path()\n",
    "children = list(root.iterdir())\n",
    "course_dirs = list(\n",
    "    filter(\n",
    "        lambda x: x.is_dir() and x.name not in [\".git\", \".DS_Store\"],\n",
    "        children,\n",
    "    )\n",
    ")\n",
    "course_names = list(map(lambda x: x.name, course_dirs))"
   ]
  },
  {
   "cell_type": "code",
   "execution_count": 2,
   "metadata": {},
   "outputs": [
    {
     "name": "stdout",
     "output_type": "stream",
     "text": [
      "Defaulting to user installation because normal site-packages is not writeable\n",
      "Requirement already satisfied: unstructured in /Users/samarthgoel/Library/Python/3.8/lib/python/site-packages (0.11.2)\n",
      "Requirement already satisfied: chardet in /Users/samarthgoel/Library/Python/3.8/lib/python/site-packages (from unstructured) (5.2.0)\n",
      "Requirement already satisfied: filetype in /Users/samarthgoel/Library/Python/3.8/lib/python/site-packages (from unstructured) (1.2.0)\n",
      "Requirement already satisfied: python-magic in /Users/samarthgoel/Library/Python/3.8/lib/python/site-packages (from unstructured) (0.4.27)\n",
      "Requirement already satisfied: lxml in /Users/samarthgoel/Library/Python/3.8/lib/python/site-packages (from unstructured) (4.9.3)\n",
      "Requirement already satisfied: nltk in /Users/samarthgoel/Library/Python/3.8/lib/python/site-packages (from unstructured) (3.8.1)\n",
      "Requirement already satisfied: tabulate in /Users/samarthgoel/Library/Python/3.8/lib/python/site-packages (from unstructured) (0.9.0)\n",
      "Requirement already satisfied: requests in /Users/samarthgoel/Library/Python/3.8/lib/python/site-packages (from unstructured) (2.31.0)\n",
      "Requirement already satisfied: beautifulsoup4 in /Users/samarthgoel/Library/Python/3.8/lib/python/site-packages (from unstructured) (4.10.0)\n",
      "Requirement already satisfied: emoji in /Users/samarthgoel/Library/Python/3.8/lib/python/site-packages (from unstructured) (2.9.0)\n",
      "Requirement already satisfied: dataclasses-json in /Users/samarthgoel/Library/Python/3.8/lib/python/site-packages (from unstructured) (0.6.1)\n",
      "Requirement already satisfied: python-iso639 in /Users/samarthgoel/Library/Python/3.8/lib/python/site-packages (from unstructured) (2023.6.15)\n",
      "Requirement already satisfied: langdetect in /Users/samarthgoel/Library/Python/3.8/lib/python/site-packages (from unstructured) (1.0.9)\n",
      "Requirement already satisfied: numpy in /Users/samarthgoel/Library/Python/3.8/lib/python/site-packages (from unstructured) (1.24.3)\n",
      "Requirement already satisfied: rapidfuzz in /Users/samarthgoel/Library/Python/3.8/lib/python/site-packages (from unstructured) (3.5.2)\n",
      "Requirement already satisfied: backoff in /Users/samarthgoel/Library/Python/3.8/lib/python/site-packages (from unstructured) (2.2.1)\n",
      "Requirement already satisfied: typing-extensions in /Users/samarthgoel/Library/Python/3.8/lib/python/site-packages (from unstructured) (4.5.0)\n",
      "Requirement already satisfied: wrapt in /Users/samarthgoel/Library/Python/3.8/lib/python/site-packages (from unstructured) (1.16.0)\n",
      "Requirement already satisfied: soupsieve>1.2 in /Users/samarthgoel/Library/Python/3.8/lib/python/site-packages (from beautifulsoup4->unstructured) (2.3.1)\n",
      "Requirement already satisfied: marshmallow<4.0.0,>=3.18.0 in /Users/samarthgoel/Library/Python/3.8/lib/python/site-packages (from dataclasses-json->unstructured) (3.20.1)\n",
      "Requirement already satisfied: typing-inspect<1,>=0.4.0 in /Users/samarthgoel/Library/Python/3.8/lib/python/site-packages (from dataclasses-json->unstructured) (0.9.0)\n",
      "Requirement already satisfied: six in /Library/Developer/CommandLineTools/Library/Frameworks/Python3.framework/Versions/3.8/lib/python3.8/site-packages (from langdetect->unstructured) (1.15.0)\n",
      "Requirement already satisfied: click in /Users/samarthgoel/Library/Python/3.8/lib/python/site-packages (from nltk->unstructured) (8.1.7)\n",
      "Requirement already satisfied: joblib in /Users/samarthgoel/Library/Python/3.8/lib/python/site-packages (from nltk->unstructured) (1.3.2)\n",
      "Requirement already satisfied: regex>=2021.8.3 in /Users/samarthgoel/Library/Python/3.8/lib/python/site-packages (from nltk->unstructured) (2023.10.3)\n",
      "Requirement already satisfied: tqdm in /Users/samarthgoel/Library/Python/3.8/lib/python/site-packages (from nltk->unstructured) (4.66.1)\n",
      "Requirement already satisfied: charset-normalizer<4,>=2 in /Users/samarthgoel/Library/Python/3.8/lib/python/site-packages (from requests->unstructured) (3.2.0)\n",
      "Requirement already satisfied: idna<4,>=2.5 in /Users/samarthgoel/Library/Python/3.8/lib/python/site-packages (from requests->unstructured) (3.4)\n",
      "Requirement already satisfied: urllib3<3,>=1.21.1 in /Users/samarthgoel/Library/Python/3.8/lib/python/site-packages (from requests->unstructured) (2.0.5)\n",
      "Requirement already satisfied: certifi>=2017.4.17 in /Users/samarthgoel/Library/Python/3.8/lib/python/site-packages (from requests->unstructured) (2023.7.22)\n",
      "Requirement already satisfied: packaging>=17.0 in /Users/samarthgoel/Library/Python/3.8/lib/python/site-packages (from marshmallow<4.0.0,>=3.18.0->dataclasses-json->unstructured) (21.3)\n",
      "Requirement already satisfied: mypy-extensions>=0.3.0 in /Users/samarthgoel/Library/Python/3.8/lib/python/site-packages (from typing-inspect<1,>=0.4.0->dataclasses-json->unstructured) (1.0.0)\n",
      "Requirement already satisfied: pyparsing!=3.0.5,>=2.0.2 in /Users/samarthgoel/Library/Python/3.8/lib/python/site-packages (from packaging>=17.0->marshmallow<4.0.0,>=3.18.0->dataclasses-json->unstructured) (3.0.7)\n",
      "\n",
      "\u001b[1m[\u001b[0m\u001b[34;49mnotice\u001b[0m\u001b[1;39;49m]\u001b[0m\u001b[39;49m A new release of pip is available: \u001b[0m\u001b[31;49m23.3.1\u001b[0m\u001b[39;49m -> \u001b[0m\u001b[32;49m23.3.2\u001b[0m\n",
      "\u001b[1m[\u001b[0m\u001b[34;49mnotice\u001b[0m\u001b[1;39;49m]\u001b[0m\u001b[39;49m To update, run: \u001b[0m\u001b[32;49m/Library/Developer/CommandLineTools/usr/bin/python3 -m pip install --upgrade pip\u001b[0m\n",
      "Note: you may need to restart the kernel to use updated packages.\n",
      "Defaulting to user installation because normal site-packages is not writeable\n",
      "Requirement already satisfied: unstructured[pdf] in /Users/samarthgoel/Library/Python/3.8/lib/python/site-packages (0.11.2)\n",
      "Requirement already satisfied: chardet in /Users/samarthgoel/Library/Python/3.8/lib/python/site-packages (from unstructured[pdf]) (5.2.0)\n",
      "Requirement already satisfied: filetype in /Users/samarthgoel/Library/Python/3.8/lib/python/site-packages (from unstructured[pdf]) (1.2.0)\n",
      "Requirement already satisfied: python-magic in /Users/samarthgoel/Library/Python/3.8/lib/python/site-packages (from unstructured[pdf]) (0.4.27)\n",
      "Requirement already satisfied: lxml in /Users/samarthgoel/Library/Python/3.8/lib/python/site-packages (from unstructured[pdf]) (4.9.3)\n",
      "Requirement already satisfied: nltk in /Users/samarthgoel/Library/Python/3.8/lib/python/site-packages (from unstructured[pdf]) (3.8.1)\n",
      "Requirement already satisfied: tabulate in /Users/samarthgoel/Library/Python/3.8/lib/python/site-packages (from unstructured[pdf]) (0.9.0)\n",
      "Requirement already satisfied: requests in /Users/samarthgoel/Library/Python/3.8/lib/python/site-packages (from unstructured[pdf]) (2.31.0)\n",
      "Requirement already satisfied: beautifulsoup4 in /Users/samarthgoel/Library/Python/3.8/lib/python/site-packages (from unstructured[pdf]) (4.10.0)\n",
      "Requirement already satisfied: emoji in /Users/samarthgoel/Library/Python/3.8/lib/python/site-packages (from unstructured[pdf]) (2.9.0)\n",
      "Requirement already satisfied: dataclasses-json in /Users/samarthgoel/Library/Python/3.8/lib/python/site-packages (from unstructured[pdf]) (0.6.1)\n",
      "Requirement already satisfied: python-iso639 in /Users/samarthgoel/Library/Python/3.8/lib/python/site-packages (from unstructured[pdf]) (2023.6.15)\n",
      "Requirement already satisfied: langdetect in /Users/samarthgoel/Library/Python/3.8/lib/python/site-packages (from unstructured[pdf]) (1.0.9)\n",
      "Requirement already satisfied: numpy in /Users/samarthgoel/Library/Python/3.8/lib/python/site-packages (from unstructured[pdf]) (1.24.3)\n",
      "Requirement already satisfied: rapidfuzz in /Users/samarthgoel/Library/Python/3.8/lib/python/site-packages (from unstructured[pdf]) (3.5.2)\n",
      "Requirement already satisfied: backoff in /Users/samarthgoel/Library/Python/3.8/lib/python/site-packages (from unstructured[pdf]) (2.2.1)\n",
      "Requirement already satisfied: typing-extensions in /Users/samarthgoel/Library/Python/3.8/lib/python/site-packages (from unstructured[pdf]) (4.5.0)\n",
      "Requirement already satisfied: wrapt in /Users/samarthgoel/Library/Python/3.8/lib/python/site-packages (from unstructured[pdf]) (1.16.0)\n",
      "Requirement already satisfied: onnx in /Users/samarthgoel/Library/Python/3.8/lib/python/site-packages (from unstructured[pdf]) (1.15.0)\n",
      "Requirement already satisfied: pdf2image in /Users/samarthgoel/Library/Python/3.8/lib/python/site-packages (from unstructured[pdf]) (1.16.3)\n",
      "Requirement already satisfied: pdfminer.six in /Users/samarthgoel/Library/Python/3.8/lib/python/site-packages (from unstructured[pdf]) (20221105)\n",
      "Requirement already satisfied: pikepdf in /Users/samarthgoel/Library/Python/3.8/lib/python/site-packages (from unstructured[pdf]) (8.9.0)\n",
      "Requirement already satisfied: pypdf in /Users/samarthgoel/Library/Python/3.8/lib/python/site-packages (from unstructured[pdf]) (3.17.2)\n",
      "Requirement already satisfied: unstructured-inference==0.7.15 in /Users/samarthgoel/Library/Python/3.8/lib/python/site-packages (from unstructured[pdf]) (0.7.15)\n",
      "Requirement already satisfied: unstructured.pytesseract>=0.3.12 in /Users/samarthgoel/Library/Python/3.8/lib/python/site-packages (from unstructured[pdf]) (0.3.12)\n",
      "Requirement already satisfied: layoutparser[layoutmodels,tesseract] in /Users/samarthgoel/Library/Python/3.8/lib/python/site-packages (from unstructured-inference==0.7.15->unstructured[pdf]) (0.3.4)\n",
      "Requirement already satisfied: python-multipart in /Users/samarthgoel/Library/Python/3.8/lib/python/site-packages (from unstructured-inference==0.7.15->unstructured[pdf]) (0.0.6)\n",
      "Requirement already satisfied: huggingface-hub in /Users/samarthgoel/Library/Python/3.8/lib/python/site-packages (from unstructured-inference==0.7.15->unstructured[pdf]) (0.18.0)\n",
      "Requirement already satisfied: opencv-python!=4.7.0.68 in /Users/samarthgoel/Library/Python/3.8/lib/python/site-packages (from unstructured-inference==0.7.15->unstructured[pdf]) (4.8.1.78)\n",
      "Requirement already satisfied: onnxruntime<1.16 in /Users/samarthgoel/Library/Python/3.8/lib/python/site-packages (from unstructured-inference==0.7.15->unstructured[pdf]) (1.15.1)\n",
      "Requirement already satisfied: transformers>=4.25.1 in /Users/samarthgoel/Library/Python/3.8/lib/python/site-packages (from unstructured-inference==0.7.15->unstructured[pdf]) (4.35.2)\n",
      "Requirement already satisfied: packaging>=21.3 in /Users/samarthgoel/Library/Python/3.8/lib/python/site-packages (from unstructured.pytesseract>=0.3.12->unstructured[pdf]) (21.3)\n",
      "Requirement already satisfied: Pillow>=8.0.0 in /Users/samarthgoel/Library/Python/3.8/lib/python/site-packages (from unstructured.pytesseract>=0.3.12->unstructured[pdf]) (10.0.1)\n",
      "Requirement already satisfied: soupsieve>1.2 in /Users/samarthgoel/Library/Python/3.8/lib/python/site-packages (from beautifulsoup4->unstructured[pdf]) (2.3.1)\n",
      "Requirement already satisfied: marshmallow<4.0.0,>=3.18.0 in /Users/samarthgoel/Library/Python/3.8/lib/python/site-packages (from dataclasses-json->unstructured[pdf]) (3.20.1)\n",
      "Requirement already satisfied: typing-inspect<1,>=0.4.0 in /Users/samarthgoel/Library/Python/3.8/lib/python/site-packages (from dataclasses-json->unstructured[pdf]) (0.9.0)\n",
      "Requirement already satisfied: six in /Library/Developer/CommandLineTools/Library/Frameworks/Python3.framework/Versions/3.8/lib/python3.8/site-packages (from langdetect->unstructured[pdf]) (1.15.0)\n",
      "Requirement already satisfied: click in /Users/samarthgoel/Library/Python/3.8/lib/python/site-packages (from nltk->unstructured[pdf]) (8.1.7)\n",
      "Requirement already satisfied: joblib in /Users/samarthgoel/Library/Python/3.8/lib/python/site-packages (from nltk->unstructured[pdf]) (1.3.2)\n",
      "Requirement already satisfied: regex>=2021.8.3 in /Users/samarthgoel/Library/Python/3.8/lib/python/site-packages (from nltk->unstructured[pdf]) (2023.10.3)\n",
      "Requirement already satisfied: tqdm in /Users/samarthgoel/Library/Python/3.8/lib/python/site-packages (from nltk->unstructured[pdf]) (4.66.1)\n",
      "Requirement already satisfied: protobuf>=3.20.2 in /Users/samarthgoel/Library/Python/3.8/lib/python/site-packages (from onnx->unstructured[pdf]) (4.24.4)\n",
      "Requirement already satisfied: charset-normalizer>=2.0.0 in /Users/samarthgoel/Library/Python/3.8/lib/python/site-packages (from pdfminer.six->unstructured[pdf]) (3.2.0)\n",
      "Requirement already satisfied: cryptography>=36.0.0 in /Users/samarthgoel/Library/Python/3.8/lib/python/site-packages (from pdfminer.six->unstructured[pdf]) (41.0.7)\n",
      "Requirement already satisfied: Deprecated in /Users/samarthgoel/Library/Python/3.8/lib/python/site-packages (from pikepdf->unstructured[pdf]) (1.2.14)\n",
      "Requirement already satisfied: idna<4,>=2.5 in /Users/samarthgoel/Library/Python/3.8/lib/python/site-packages (from requests->unstructured[pdf]) (3.4)\n",
      "Requirement already satisfied: urllib3<3,>=1.21.1 in /Users/samarthgoel/Library/Python/3.8/lib/python/site-packages (from requests->unstructured[pdf]) (2.0.5)\n",
      "Requirement already satisfied: certifi>=2017.4.17 in /Users/samarthgoel/Library/Python/3.8/lib/python/site-packages (from requests->unstructured[pdf]) (2023.7.22)\n",
      "Requirement already satisfied: cffi>=1.12 in /Users/samarthgoel/Library/Python/3.8/lib/python/site-packages (from cryptography>=36.0.0->pdfminer.six->unstructured[pdf]) (1.15.0)\n",
      "Requirement already satisfied: coloredlogs in /Users/samarthgoel/Library/Python/3.8/lib/python/site-packages (from onnxruntime<1.16->unstructured-inference==0.7.15->unstructured[pdf]) (15.0.1)\n",
      "Requirement already satisfied: flatbuffers in /Users/samarthgoel/Library/Python/3.8/lib/python/site-packages (from onnxruntime<1.16->unstructured-inference==0.7.15->unstructured[pdf]) (23.5.26)\n",
      "Requirement already satisfied: sympy in /Users/samarthgoel/Library/Python/3.8/lib/python/site-packages (from onnxruntime<1.16->unstructured-inference==0.7.15->unstructured[pdf]) (1.12)\n",
      "Requirement already satisfied: pyparsing!=3.0.5,>=2.0.2 in /Users/samarthgoel/Library/Python/3.8/lib/python/site-packages (from packaging>=21.3->unstructured.pytesseract>=0.3.12->unstructured[pdf]) (3.0.7)\n",
      "Requirement already satisfied: filelock in /Users/samarthgoel/Library/Python/3.8/lib/python/site-packages (from transformers>=4.25.1->unstructured-inference==0.7.15->unstructured[pdf]) (3.12.4)\n",
      "Requirement already satisfied: pyyaml>=5.1 in /Users/samarthgoel/Library/Python/3.8/lib/python/site-packages (from transformers>=4.25.1->unstructured-inference==0.7.15->unstructured[pdf]) (6.0.1)\n",
      "Requirement already satisfied: tokenizers<0.19,>=0.14 in /Users/samarthgoel/Library/Python/3.8/lib/python/site-packages (from transformers>=4.25.1->unstructured-inference==0.7.15->unstructured[pdf]) (0.15.0)\n",
      "Requirement already satisfied: safetensors>=0.3.1 in /Users/samarthgoel/Library/Python/3.8/lib/python/site-packages (from transformers>=4.25.1->unstructured-inference==0.7.15->unstructured[pdf]) (0.4.0)\n",
      "Requirement already satisfied: fsspec>=2023.5.0 in /Users/samarthgoel/Library/Python/3.8/lib/python/site-packages (from huggingface-hub->unstructured-inference==0.7.15->unstructured[pdf]) (2023.9.2)\n",
      "Requirement already satisfied: mypy-extensions>=0.3.0 in /Users/samarthgoel/Library/Python/3.8/lib/python/site-packages (from typing-inspect<1,>=0.4.0->dataclasses-json->unstructured[pdf]) (1.0.0)\n",
      "Requirement already satisfied: scipy in /Users/samarthgoel/Library/Python/3.8/lib/python/site-packages (from layoutparser[layoutmodels,tesseract]->unstructured-inference==0.7.15->unstructured[pdf]) (1.10.1)\n",
      "Requirement already satisfied: pandas in /Users/samarthgoel/Library/Python/3.8/lib/python/site-packages (from layoutparser[layoutmodels,tesseract]->unstructured-inference==0.7.15->unstructured[pdf]) (2.0.3)\n",
      "Requirement already satisfied: iopath in /Users/samarthgoel/Library/Python/3.8/lib/python/site-packages (from layoutparser[layoutmodels,tesseract]->unstructured-inference==0.7.15->unstructured[pdf]) (0.1.10)\n",
      "Requirement already satisfied: pdfplumber in /Users/samarthgoel/Library/Python/3.8/lib/python/site-packages (from layoutparser[layoutmodels,tesseract]->unstructured-inference==0.7.15->unstructured[pdf]) (0.10.3)\n",
      "Requirement already satisfied: pytesseract in /Users/samarthgoel/Library/Python/3.8/lib/python/site-packages (from layoutparser[layoutmodels,tesseract]->unstructured-inference==0.7.15->unstructured[pdf]) (0.3.10)\n",
      "Requirement already satisfied: torch in /Users/samarthgoel/Library/Python/3.8/lib/python/site-packages (from layoutparser[layoutmodels,tesseract]->unstructured-inference==0.7.15->unstructured[pdf]) (2.1.0)\n",
      "Requirement already satisfied: torchvision in /Users/samarthgoel/Library/Python/3.8/lib/python/site-packages (from layoutparser[layoutmodels,tesseract]->unstructured-inference==0.7.15->unstructured[pdf]) (0.16.0)\n",
      "Requirement already satisfied: effdet in /Users/samarthgoel/Library/Python/3.8/lib/python/site-packages (from layoutparser[layoutmodels,tesseract]->unstructured-inference==0.7.15->unstructured[pdf]) (0.4.1)\n",
      "Requirement already satisfied: pycparser in /Users/samarthgoel/Library/Python/3.8/lib/python/site-packages (from cffi>=1.12->cryptography>=36.0.0->pdfminer.six->unstructured[pdf]) (2.21)\n",
      "Requirement already satisfied: humanfriendly>=9.1 in /Users/samarthgoel/Library/Python/3.8/lib/python/site-packages (from coloredlogs->onnxruntime<1.16->unstructured-inference==0.7.15->unstructured[pdf]) (10.0)\n",
      "Requirement already satisfied: timm>=0.9.2 in /Users/samarthgoel/Library/Python/3.8/lib/python/site-packages (from effdet->layoutparser[layoutmodels,tesseract]->unstructured-inference==0.7.15->unstructured[pdf]) (0.9.12)\n",
      "Requirement already satisfied: pycocotools>=2.0.2 in /Users/samarthgoel/Library/Python/3.8/lib/python/site-packages (from effdet->layoutparser[layoutmodels,tesseract]->unstructured-inference==0.7.15->unstructured[pdf]) (2.0.7)\n",
      "Requirement already satisfied: omegaconf>=2.0 in /Users/samarthgoel/Library/Python/3.8/lib/python/site-packages (from effdet->layoutparser[layoutmodels,tesseract]->unstructured-inference==0.7.15->unstructured[pdf]) (2.3.0)\n",
      "Requirement already satisfied: networkx in /Users/samarthgoel/Library/Python/3.8/lib/python/site-packages (from torch->layoutparser[layoutmodels,tesseract]->unstructured-inference==0.7.15->unstructured[pdf]) (3.1)\n",
      "Requirement already satisfied: jinja2 in /Users/samarthgoel/Library/Python/3.8/lib/python/site-packages (from torch->layoutparser[layoutmodels,tesseract]->unstructured-inference==0.7.15->unstructured[pdf]) (3.0.3)\n",
      "Requirement already satisfied: portalocker in /Users/samarthgoel/Library/Python/3.8/lib/python/site-packages (from iopath->layoutparser[layoutmodels,tesseract]->unstructured-inference==0.7.15->unstructured[pdf]) (2.8.2)\n",
      "Requirement already satisfied: python-dateutil>=2.8.2 in /Users/samarthgoel/Library/Python/3.8/lib/python/site-packages (from pandas->layoutparser[layoutmodels,tesseract]->unstructured-inference==0.7.15->unstructured[pdf]) (2.8.2)\n",
      "Requirement already satisfied: pytz>=2020.1 in /Users/samarthgoel/Library/Python/3.8/lib/python/site-packages (from pandas->layoutparser[layoutmodels,tesseract]->unstructured-inference==0.7.15->unstructured[pdf]) (2023.3.post1)\n",
      "Requirement already satisfied: tzdata>=2022.1 in /Users/samarthgoel/Library/Python/3.8/lib/python/site-packages (from pandas->layoutparser[layoutmodels,tesseract]->unstructured-inference==0.7.15->unstructured[pdf]) (2023.3)\n",
      "Requirement already satisfied: pypdfium2>=4.18.0 in /Users/samarthgoel/Library/Python/3.8/lib/python/site-packages (from pdfplumber->layoutparser[layoutmodels,tesseract]->unstructured-inference==0.7.15->unstructured[pdf]) (4.25.0)\n",
      "Requirement already satisfied: mpmath>=0.19 in /Users/samarthgoel/Library/Python/3.8/lib/python/site-packages (from sympy->onnxruntime<1.16->unstructured-inference==0.7.15->unstructured[pdf]) (1.3.0)\n",
      "Requirement already satisfied: antlr4-python3-runtime==4.9.* in /Users/samarthgoel/Library/Python/3.8/lib/python/site-packages (from omegaconf>=2.0->effdet->layoutparser[layoutmodels,tesseract]->unstructured-inference==0.7.15->unstructured[pdf]) (4.9.3)\n",
      "Requirement already satisfied: matplotlib>=2.1.0 in /Users/samarthgoel/Library/Python/3.8/lib/python/site-packages (from pycocotools>=2.0.2->effdet->layoutparser[layoutmodels,tesseract]->unstructured-inference==0.7.15->unstructured[pdf]) (3.7.3)\n",
      "Requirement already satisfied: MarkupSafe>=2.0 in /Users/samarthgoel/Library/Python/3.8/lib/python/site-packages (from jinja2->torch->layoutparser[layoutmodels,tesseract]->unstructured-inference==0.7.15->unstructured[pdf]) (2.1.1)\n",
      "Requirement already satisfied: contourpy>=1.0.1 in /Users/samarthgoel/Library/Python/3.8/lib/python/site-packages (from matplotlib>=2.1.0->pycocotools>=2.0.2->effdet->layoutparser[layoutmodels,tesseract]->unstructured-inference==0.7.15->unstructured[pdf]) (1.1.1)\n",
      "Requirement already satisfied: cycler>=0.10 in /Users/samarthgoel/Library/Python/3.8/lib/python/site-packages (from matplotlib>=2.1.0->pycocotools>=2.0.2->effdet->layoutparser[layoutmodels,tesseract]->unstructured-inference==0.7.15->unstructured[pdf]) (0.12.0)\n",
      "Requirement already satisfied: fonttools>=4.22.0 in /Users/samarthgoel/Library/Python/3.8/lib/python/site-packages (from matplotlib>=2.1.0->pycocotools>=2.0.2->effdet->layoutparser[layoutmodels,tesseract]->unstructured-inference==0.7.15->unstructured[pdf]) (4.43.0)\n",
      "Requirement already satisfied: kiwisolver>=1.0.1 in /Users/samarthgoel/Library/Python/3.8/lib/python/site-packages (from matplotlib>=2.1.0->pycocotools>=2.0.2->effdet->layoutparser[layoutmodels,tesseract]->unstructured-inference==0.7.15->unstructured[pdf]) (1.4.5)\n",
      "Requirement already satisfied: importlib-resources>=3.2.0 in /Users/samarthgoel/Library/Python/3.8/lib/python/site-packages (from matplotlib>=2.1.0->pycocotools>=2.0.2->effdet->layoutparser[layoutmodels,tesseract]->unstructured-inference==0.7.15->unstructured[pdf]) (5.4.0)\n",
      "Requirement already satisfied: zipp>=3.1.0 in /Users/samarthgoel/Library/Python/3.8/lib/python/site-packages (from importlib-resources>=3.2.0->matplotlib>=2.1.0->pycocotools>=2.0.2->effdet->layoutparser[layoutmodels,tesseract]->unstructured-inference==0.7.15->unstructured[pdf]) (3.7.0)\n",
      "\n",
      "\u001b[1m[\u001b[0m\u001b[34;49mnotice\u001b[0m\u001b[1;39;49m]\u001b[0m\u001b[39;49m A new release of pip is available: \u001b[0m\u001b[31;49m23.3.1\u001b[0m\u001b[39;49m -> \u001b[0m\u001b[32;49m23.3.2\u001b[0m\n",
      "\u001b[1m[\u001b[0m\u001b[34;49mnotice\u001b[0m\u001b[1;39;49m]\u001b[0m\u001b[39;49m To update, run: \u001b[0m\u001b[32;49m/Library/Developer/CommandLineTools/usr/bin/python3 -m pip install --upgrade pip\u001b[0m\n",
      "Note: you may need to restart the kernel to use updated packages.\n"
     ]
    }
   ],
   "source": [
    "%pip install 'unstructured'\n",
    "%pip install 'unstructured[pdf]'"
   ]
  },
  {
   "cell_type": "code",
   "execution_count": 2,
   "metadata": {},
   "outputs": [
    {
     "name": "stderr",
     "output_type": "stream",
     "text": [
      "/Users/samarthgoel/Library/Python/3.8/lib/python/site-packages/urllib3/__init__.py:34: NotOpenSSLWarning: urllib3 v2.0 only supports OpenSSL 1.1.1+, currently the 'ssl' module is compiled with 'LibreSSL 2.8.3'. See: https://github.com/urllib3/urllib3/issues/3020\n",
      "  warnings.warn(\n"
     ]
    }
   ],
   "source": [
    "import unstructured.partition.pdf as pdf"
   ]
  },
  {
   "cell_type": "code",
   "execution_count": 3,
   "metadata": {},
   "outputs": [
    {
     "name": "stderr",
     "output_type": "stream",
     "text": [
      "Some weights of the model checkpoint at microsoft/table-transformer-structure-recognition were not used when initializing TableTransformerForObjectDetection: ['model.backbone.conv_encoder.model.layer3.0.downsample.1.num_batches_tracked', 'model.backbone.conv_encoder.model.layer2.0.downsample.1.num_batches_tracked', 'model.backbone.conv_encoder.model.layer4.0.downsample.1.num_batches_tracked']\n",
      "- This IS expected if you are initializing TableTransformerForObjectDetection from the checkpoint of a model trained on another task or with another architecture (e.g. initializing a BertForSequenceClassification model from a BertForPreTraining model).\n",
      "- This IS NOT expected if you are initializing TableTransformerForObjectDetection from the checkpoint of a model that you expect to be exactly identical (initializing a BertForSequenceClassification model from a BertForSequenceClassification model).\n"
     ]
    }
   ],
   "source": [
    "partitioned_elements = pdf.partition_pdf(\n",
    "    \"test2.pdf\",\n",
    "    include_page_breaks=True,\n",
    "    strategy=\"hi_res\",\n",
    "    infer_table_structure=True,\n",
    "    extract_images_in_pdf=True,\n",
    "    output_type=\"dict\",\n",
    "    image_output_dir_path=\"testpdf_images\",\n",
    ")"
   ]
  },
  {
   "cell_type": "code",
   "execution_count": 4,
   "metadata": {},
   "outputs": [
    {
     "data": {
      "text/plain": [
       "[<unstructured.documents.elements.NarrativeText at 0x2bdd70b20>,\n",
       " <unstructured.documents.elements.Title at 0x2bdd70e50>,\n",
       " <unstructured.documents.elements.Table at 0x2bdd70ca0>,\n",
       " <unstructured.documents.elements.ListItem at 0x2bdd4c0d0>,\n",
       " <unstructured.documents.elements.ListItem at 0x2bdd32dc0>]"
      ]
     },
     "execution_count": 4,
     "metadata": {},
     "output_type": "execute_result"
    }
   ],
   "source": [
    "partitioned_elements[:5]"
   ]
  },
  {
   "cell_type": "code",
   "execution_count": 7,
   "metadata": {},
   "outputs": [],
   "source": [
    "images = []\n",
    "for t in partitioned_elements:\n",
    "    if t.to_dict()[\"type\"] == \"Image\":\n",
    "        images.append(t)"
   ]
  },
  {
   "cell_type": "code",
   "execution_count": 9,
   "metadata": {},
   "outputs": [
    {
     "data": {
      "text/plain": [
       "{'type': 'Image',\n",
       " 'element_id': '12d498a150111429bc0e7195a913ff65',\n",
       " 'metadata': {'detection_class_prob': 0.8344120383262634,\n",
       "  'coordinates': {'points': ((628.2841796875, 359.8215026855469),\n",
       "    (628.2841796875, 714.8948974609375),\n",
       "    (1056.8209740277778, 714.8948974609375),\n",
       "    (1056.8209740277778, 359.8215026855469)),\n",
       "   'system': 'PixelSpace',\n",
       "   'layout_width': 1700,\n",
       "   'layout_height': 2200},\n",
       "  'last_modified': '2023-12-25T00:10:42',\n",
       "  'filetype': 'application/pdf',\n",
       "  'image_path': 'testpdf_images/figure-4-1.jpg',\n",
       "  'languages': ['eng'],\n",
       "  'page_number': 4,\n",
       "  'filename': 'test2.pdf'},\n",
       " 'text': 'y  2  1  R  x  1  2  3  4 '}"
      ]
     },
     "execution_count": 9,
     "metadata": {},
     "output_type": "execute_result"
    }
   ],
   "source": [
    "images[0].to_dict()"
   ]
  },
  {
   "cell_type": "code",
   "execution_count": 45,
   "metadata": {},
   "outputs": [
    {
     "data": {
      "text/plain": [
       "CoordinatesMetadata(points=((181.5944444444445, 818.709444444444), (181.5944444444445, 918.8329077777773), (1540.0108633333334, 918.8329077777773), (1540.0108633333334, 818.709444444444)), system=<unstructured.documents.coordinates.PixelSpace object at 0x2bbc894f0>)"
      ]
     },
     "execution_count": 45,
     "metadata": {},
     "output_type": "execute_result"
    }
   ],
   "source": [
    "partitioned_elements[10].metadata.coordinates"
   ]
  },
  {
   "cell_type": "code",
   "execution_count": 10,
   "metadata": {},
   "outputs": [
    {
     "name": "stdout",
     "output_type": "stream",
     "text": [
      "Title | (d) Random Graphs [5]\n",
      "\n",
      "NarrativeText | Let G be a random graph generated using the G(n, p) model. For what value of p is the expected number of cliques of ﬁve vertices in G equal to 1? (A clique on n vertices is a subset of n vertices such that for every pair of vertices in the clique, the edge between the vertices exists in the graph.)\n",
      "\n",
      "UncategorizedText | 3\n",
      "\n",
      "PageBreak | \n",
      "\n",
      "Title | (e) Graphical MMSE [5]\n",
      "\n",
      "NarrativeText | Let (X, Y ) be a pair of random variables which are uniformly distributed over the region shown in Figure 1.\n",
      "\n",
      "Image | y  2  1  R  x  1  2  3  4 \n",
      "\n",
      "NarrativeText | Figure 1: The region R is enclosed by the curves: y = 0, y = 1, y = x2, y = (x − 2)2.\n",
      "\n",
      "Title | Find E[X | Y ].\n",
      "\n",
      "UncategorizedText | 4\n",
      "\n",
      "PageBreak | \n",
      "\n",
      "Title | Problem 2: Waiting in Line for Inﬁnity War (no spoilers) [20]\n",
      "\n",
      "NarrativeText | At 6:30 PM, there are 9 people waiting in line outside of the theater to watch Avengers: Inﬁnity War. People arrive and wait in line according to a Poisson process with rate 2 per minute.\n",
      "\n",
      "NarrativeText | (a) [5] Starting from 6:30 PM, the theater admits exactly one person every minute (i.e., at 6:31 PM, 6:32 PM, 6:33 PM, etc.). What is the expected number of people remaining in line the instant after 6:40 PM?\n",
      "\n",
      "NarrativeText | (b) [5] Suppose we observe the time Y at which the third new person arrives in line. What is the MLE estimate for the time X at which the fourth new person arrives in line? (Assume that X and Y are measured in minutes since 6:30 PM.)\n",
      "\n",
      "UncategorizedText | 5\n",
      "\n",
      "PageBreak | \n",
      "\n",
      "NarrativeText | (c) [5] Starting from 6:40 PM, the theater stops letting in more people. The people in line become fed up: each person in line, independently, waits an Exponential(1) amount of time and then leaves the line. (People are still arriving in line according to the Poisson process of rate 2 per minute. If a new person arrives, he or she also waits an Exponential(1) amount of time before leaving the line.) After a long period of time, what is the average number of people in line?\n",
      "\n",
      "NarrativeText | (d) [5] Meanwhile, inside the theater, the movie has already begun. Thanos appears on the big screen according to a Poisson process of rate 1 per minute. On each of his appearances, independently with probability 1/3 he makes the audience scream. An observer outside the theater observes S, the number of times that the audience screams in the ﬁrst 30 minutes. What is the LLSE estimate of T , the number of times that Thanos appeared on the big screen in the ﬁrst 30 minutes, given S?\n",
      "\n",
      "UncategorizedText | 6\n",
      "\n",
      "PageBreak | \n",
      "\n",
      "Title | Problem 3: Hypothesis Testing [20]\n",
      "\n",
      "NarrativeText | (a) [10] We want to test two hypotheses; we have prior knowledge that X ∼ Bernoulli(2/3). In both cases, our observation Y has the Laplace distribution, but with diﬀerent mean and shape. In particular\n",
      "\n",
      "Formula | 1 2 1 4 e−|y|, y ∈ R fY |X (y | 0) = e− |y−2| , y ∈ R. fY |X (y | 1) = 2\n",
      "\n",
      "NarrativeText | Construct a decision rule r : R → {0, 1} that minimizes P(r(Y ) (cid:54)= X) = E[I{r(Y ) (cid:54)= X}] (use the MAP rule).\n",
      "\n"
     ]
    }
   ],
   "source": [
    "for i in range(25, 50):\n",
    "    print(partitioned_elements[i].to_dict()[\"type\"], \"|\", partitioned_elements[i])\n",
    "    print()"
   ]
  },
  {
   "cell_type": "code",
   "execution_count": 47,
   "metadata": {},
   "outputs": [],
   "source": [
    "ref_text = \"\"\"\n",
    "Q1. [60 pts] Multiple Answer\n",
    "Fill in the bubbles for ALL correct choices: there may be more than one correct choice, but there is always at least one correct choice. NO partial credit: the set of all correct answers must be checked.\n",
    "(a) [3 pts] Let $X \\sim \\operatorname{Bernoulli}\\left(\\frac{1}{1+\\exp \\theta}\\right)$ for some $\\theta \\in \\mathbb{R}$. What is the MLE estimator of $\\theta$ ?\n",
    "$X$\n",
    "0\n",
    "1\n",
    "Does not exist.\n",
    "(b) [3 pts] Let $Y \\sim \\mathcal{N}\\left(X \\theta, I_n\\right)$ for some unknown $\\theta \\in \\mathbb{R}^d$ and some known $X \\in \\mathbb{R}^{n \\times d}$ that has full column rank and $d<n$. What is the MLE estimator of $\\theta$ ?\n",
    "$\\left(X^{\\top} X\\right)^{-1} X^{\\top} Y$\n",
    "$Y+Z \\quad \\forall Z \\in \\operatorname{Null}(X)$\n",
    "$X^{\\top}\\left(X X^{\\top}\\right)^{-1} Y$\n",
    "Does not exist.\n",
    "(c) [3 pts] Let $f(x)=-\\sum_{i=1}^n x_i \\log x_i$. For some $x$ such that $\\sum_{i=1}^n x_i=1$ and $x_i>0$, the Hessian of $f$ is:\n",
    "positive definite\n",
    "negative definite\n",
    "positive semidefinite\n",
    "negative semidefinite\n",
    "indefinite (neither positive semidefinite nor negative semidefinite)\n",
    "invertible\n",
    "nonexistent\n",
    "None of the above.\n",
    "(d) [3 pts] Which of the following statements about optimization algorithms are correct?\n",
    "Newton's method always requires fewer iterations than gradient descent.\n",
    "Stochastic gradient descent always requires fewer iterations than gradient descent.\n",
    "Stochastic gradient descent, even with small step size, sometimes increases the loss in some iteration for convex problems.\n",
    "Gradient descent, regardless the step size, decreases the loss in every iteration for convex problems.\n",
    "(e) [3 pts] Assume we run the hard-margin SVM algorithm on $100 d$-dimensional points from 2 different classes. The algorithm outputs a solution. After which transformation to the training data would the algorithm still output a solution?\n",
    "Centering the data points\n",
    "Transforming each data point from $x$ to $A x$ for some matrix $A \\in \\mathbb{R}^{d x d}$\n",
    "Dividing all entries of each data point by some negative constant $\\mathrm{c}$\n",
    "Adding an additional feature\n",
    "(f) [3 pts] Which of the following holds true when running an SVM algorithm?\n",
    "Increasing or decreasing $\\alpha$ value only allows the decision boundary to translate.\n",
    "Given n-dimensional points, the SVM algorithm finds a hyperplane passing through the origin in the\n",
    "$(n+1)$-dimensional space that separates the points by their class.\n",
    "Decision boundary rotates if we change the constraint to $w^T x+\\alpha \\geq 3$.\n",
    "2\n",
    "\"\"\""
   ]
  },
  {
   "cell_type": "code",
   "execution_count": 54,
   "metadata": {},
   "outputs": [],
   "source": [
    "from difflib import SequenceMatcher\n",
    "\n",
    "\n",
    "def isclose(str1, str2):\n",
    "    return SequenceMatcher(None, str1, str2).ratio()"
   ]
  },
  {
   "cell_type": "code",
   "execution_count": 59,
   "metadata": {},
   "outputs": [
    {
     "name": "stdout",
     "output_type": "stream",
     "text": [
      "Q1. [60 pts] Multiple Answer\n"
     ]
    }
   ],
   "source": [
    "ref_components = ref_text.strip(\"\\n\").split(\"\\n\")\n",
    "\n",
    "for t in partitioned_elements:\n",
    "    if isclose(t.text, ref_components[0]) > 0.8:\n",
    "        print(t.text)"
   ]
  },
  {
   "cell_type": "code",
   "execution_count": 51,
   "metadata": {},
   "outputs": [
    {
     "data": {
      "text/plain": [
       "'Q1. [60 pts] Multiple Answer'"
      ]
     },
     "execution_count": 51,
     "metadata": {},
     "output_type": "execute_result"
    }
   ],
   "source": [
    "ref_components[0]"
   ]
  },
  {
   "cell_type": "code",
   "execution_count": null,
   "metadata": {},
   "outputs": [],
   "source": []
  }
 ],
 "metadata": {
  "kernelspec": {
   "display_name": "Python 3",
   "language": "python",
   "name": "python3"
  },
  "language_info": {
   "codemirror_mode": {
    "name": "ipython",
    "version": 3
   },
   "file_extension": ".py",
   "mimetype": "text/x-python",
   "name": "python",
   "nbconvert_exporter": "python",
   "pygments_lexer": "ipython3",
   "version": "3.8.9"
  }
 },
 "nbformat": 4,
 "nbformat_minor": 2
}
