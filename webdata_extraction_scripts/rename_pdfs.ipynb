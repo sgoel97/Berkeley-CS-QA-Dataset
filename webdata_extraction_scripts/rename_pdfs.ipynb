{
 "cells": [
  {
   "cell_type": "code",
   "execution_count": 43,
   "metadata": {},
   "outputs": [],
   "source": [
    "import json\n",
    "from pathlib import Path"
   ]
  },
  {
   "cell_type": "code",
   "execution_count": 44,
   "metadata": {},
   "outputs": [],
   "source": [
    "root = Path(\"../data\")\n",
    "children = list(root.iterdir())\n",
    "course_dirs = list(\n",
    "    filter(\n",
    "        lambda x: x.is_dir() and x.name not in [\".git\", \".DS_Store\"],\n",
    "        children,\n",
    "    )\n",
    ")\n",
    "course_names = list(map(lambda x: x.name, course_dirs))"
   ]
  },
  {
   "cell_type": "code",
   "execution_count": 54,
   "metadata": {},
   "outputs": [],
   "source": [
    "# eecs126_path = Path(\"../data/eecs126\")\n",
    "# all_exams = list(eecs126_path.glob(\"*/*.pdf\"))\n",
    "\n",
    "# course_name = \"eecs126\"\n",
    "# for exam_path in all_exams:\n",
    "#     if exam_path.parent.name == \"past_finals\":\n",
    "#         exam_type = \"final\"\n",
    "#     elif exam_path.parent.name == \"past_mt1s\":\n",
    "#         exam_type = \"midterm1\"\n",
    "#     else:\n",
    "#         exam_type = \"midterm2\"\n",
    "\n",
    "#     if \"sol\" in exam_path.name:\n",
    "#         exam_suffix = \"solution\"\n",
    "#     else:\n",
    "#         exam_suffix = \"blank\"\n",
    "\n",
    "#     semester = exam_path.name[:4]\n",
    "#     season = semester[:2]\n",
    "#     year = \"20\" + semester[2:]\n",
    "\n",
    "#     if season == \"sp\":\n",
    "#         season = \"fall\"\n",
    "#     else:\n",
    "#         season = \"spring\"\n",
    "\n",
    "#     new_name = f\"{course_name}_{season}{year}_{exam_type}_{exam_suffix}.pdf\"\n",
    "#     parent_path = exam_path.parent.parent\n",
    "\n",
    "#     Path(parent_path / \"renamed_exams\").mkdir(exist_ok=True, parents=True)\n",
    "\n",
    "#     exam_path.rename(parent_path / \"renamed_exams\" / new_name)"
   ]
  },
  {
   "cell_type": "code",
   "execution_count": 55,
   "metadata": {},
   "outputs": [],
   "source": [
    "# eecs127_path = Path(\"../data/eecs127\")\n",
    "# all_exams = list(eecs127_path.glob(\"*/*.pdf\"))\n",
    "\n",
    "# course_name = \"eecs127\"\n",
    "# for exam_path in all_exams:\n",
    "#     if 'mt2' not in exam_path.name and 'final' not in exam_path.name:\n",
    "#         exam_type = \"midterm1\"\n",
    "#     elif 'mt2' in exam_path.name:\n",
    "#         exam_type = \"midterm2\"\n",
    "#     else:\n",
    "#         exam_type = \"final\"\n",
    "\n",
    "#     if \"sol\" in exam_path.name:\n",
    "#         exam_suffix = \"solution\"\n",
    "#     else:\n",
    "#         exam_suffix = \"blank\"\n",
    "\n",
    "#     semester = exam_path.name[:4]\n",
    "#     season = semester[:2]\n",
    "#     year = \"20\" + semester[2:]\n",
    "\n",
    "#     if season == \"sp\":\n",
    "#         season = \"fall\"\n",
    "#     else:\n",
    "#         season = \"spring\"\n",
    "\n",
    "#     new_name = f\"{course_name}_{season}{year}_{exam_type}_{exam_suffix}.pdf\"\n",
    "#     parent_path = exam_path.parent.parent\n",
    "\n",
    "#     Path(parent_path / \"renamed_exams\").mkdir(exist_ok=True, parents=True)\n",
    "\n",
    "#     exam_path.rename(parent_path / \"renamed_exams\" / new_name)"
   ]
  },
  {
   "cell_type": "code",
   "execution_count": null,
   "metadata": {},
   "outputs": [],
   "source": []
  }
 ],
 "metadata": {
  "kernelspec": {
   "display_name": "Python 3",
   "language": "python",
   "name": "python3"
  },
  "language_info": {
   "codemirror_mode": {
    "name": "ipython",
    "version": 3
   },
   "file_extension": ".py",
   "mimetype": "text/x-python",
   "name": "python",
   "nbconvert_exporter": "python",
   "pygments_lexer": "ipython3",
   "version": "3.8.9"
  }
 },
 "nbformat": 4,
 "nbformat_minor": 2
}
