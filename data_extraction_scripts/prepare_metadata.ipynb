{
 "cells": [
  {
   "cell_type": "code",
   "execution_count": 2,
   "metadata": {},
   "outputs": [],
   "source": [
    "import json\n",
    "from pathlib import Path"
   ]
  },
  {
   "cell_type": "code",
   "execution_count": 3,
   "metadata": {},
   "outputs": [],
   "source": [
    "root = Path()\n",
    "children = list(root.iterdir())\n",
    "course_dirs = list(\n",
    "    filter(\n",
    "        lambda x: x.is_dir() and x.name not in [\".git\", \".DS_Store\"],\n",
    "        children,\n",
    "    )\n",
    ")\n",
    "course_names = list(map(lambda x: x.name, course_dirs))"
   ]
  },
  {
   "cell_type": "code",
   "execution_count": 14,
   "metadata": {},
   "outputs": [],
   "source": [
    "def convert_json_to_txt(input_file_path, output_file_path):\n",
    "    try:\n",
    "        # Open the file in read mode\n",
    "        with open(input_file_path, \"r\", encoding=\"utf-8\") as file:\n",
    "            data = json.load(file)\n",
    "\n",
    "        string_data = [str(key) + \": \" + str(value) for key, value in data.items()]\n",
    "        string_data = \"\\n\".join(string_data)\n",
    "\n",
    "        # Open the file in write mode\n",
    "        with open(output_file_path, \"w\", encoding=\"utf-8\") as file:\n",
    "            # Write the string data to the file\n",
    "            file.write(string_data)\n",
    "            print(f\"String successfully written to {output_file_path}\")\n",
    "    except IOError as e:\n",
    "        print(f\"An error occurred while writing the file: {e}\")\n",
    "\n",
    "\n",
    "def convert_txt_to_json(input_file_path, output_file_path):\n",
    "    contents = input_file_path.read_text().split(\"\\n\")\n",
    "\n",
    "    contents = [line for line in contents if line != \"\"]\n",
    "    contents = [\n",
    "        (line[: line.index(\":\")], line[line.index(\":\") + 1 :]) for line in contents\n",
    "    ]\n",
    "    contents = [(line[0].strip(), line[1].strip()) for line in contents]\n",
    "    result_dict = dict(contents)\n",
    "\n",
    "    try:\n",
    "        with open(output_file_path, \"w\", encoding=\"utf-8\") as file:\n",
    "            json.dump(result_dict, file, ensure_ascii=False, indent=4)\n",
    "        print(f\"JSON file successfully written to {output_file_path}\")\n",
    "    except IOError as e:\n",
    "        print(f\"An error occurred while writing the file: {e}\")"
   ]
  },
  {
   "cell_type": "code",
   "execution_count": 5,
   "metadata": {},
   "outputs": [
    {
     "name": "stdout",
     "output_type": "stream",
     "text": [
      "JSON file successfully written to data101/metadata.json\n",
      "JSON file successfully written to eecs105/metadata.json\n",
      "JSON file successfully written to cs170/metadata.json\n",
      "JSON file successfully written to data100/metadata.json\n",
      "JSON file successfully written to cs184/metadata.json\n",
      "JSON file successfully written to eecs16a/metadata.json\n",
      "JSON file successfully written to cs61b/metadata.json\n",
      "JSON file successfully written to cs61c/metadata.json\n",
      "JSON file successfully written to data8/metadata.json\n",
      "JSON file successfully written to cs164/metadata.json\n",
      "JSON file successfully written to eecs120/metadata.json\n",
      "JSON file successfully written to cs162/metadata.json\n",
      "JSON file successfully written to cs186/metadata.json\n",
      "JSON file successfully written to cs172/metadata.json\n",
      "JSON file successfully written to data102/metadata.json\n",
      "JSON file successfully written to cs188/metadata.json\n",
      "JSON file successfully written to eecs152/metadata.json\n",
      "JSON file successfully written to cs88/metadata.json\n",
      "JSON file successfully written to eecs16b/metadata.json\n",
      "JSON file successfully written to cs189/metadata.json\n",
      "JSON file successfully written to cs10/metadata.json\n",
      "JSON file successfully written to cs174/metadata.json\n",
      "JSON file successfully written to cs61a/metadata.json\n",
      "JSON file successfully written to eecs70/metadata.json\n",
      "JSON file successfully written to cs169/metadata.json\n",
      "JSON file successfully written to cs161/metadata.json\n",
      "JSON file successfully written to cs150/metadata.json\n"
     ]
    }
   ],
   "source": [
    "for course_dir in course_dirs:\n",
    "    input_file_path = course_dir / \"metadata.txt\"\n",
    "    output_file_path = course_dir / \"metadata.json\"\n",
    "    convert_txt_to_json(input_file_path, output_file_path)"
   ]
  },
  {
   "cell_type": "code",
   "execution_count": 20,
   "metadata": {},
   "outputs": [
    {
     "name": "stdout",
     "output_type": "stream",
     "text": [
      "String successfully written to data101/metadata.txt\n",
      "String successfully written to eecs105/metadata.txt\n",
      "String successfully written to cs170/metadata.txt\n",
      "String successfully written to data100/metadata.txt\n",
      "String successfully written to cs184/metadata.txt\n",
      "String successfully written to eecs16a/metadata.txt\n",
      "String successfully written to cs61b/metadata.txt\n",
      "String successfully written to cs61c/metadata.txt\n",
      "String successfully written to data8/metadata.txt\n",
      "String successfully written to cs164/metadata.txt\n",
      "String successfully written to eecs120/metadata.txt\n",
      "String successfully written to cs162/metadata.txt\n",
      "String successfully written to cs186/metadata.txt\n",
      "String successfully written to cs172/metadata.txt\n",
      "String successfully written to data102/metadata.txt\n",
      "String successfully written to cs188/metadata.txt\n",
      "String successfully written to eecs152/metadata.txt\n",
      "String successfully written to cs88/metadata.txt\n",
      "String successfully written to eecs16b/metadata.txt\n",
      "String successfully written to cs189/metadata.txt\n",
      "String successfully written to cs10/metadata.txt\n",
      "String successfully written to cs174/metadata.txt\n",
      "String successfully written to cs61a/metadata.txt\n",
      "String successfully written to eecs70/metadata.txt\n",
      "String successfully written to cs169/metadata.txt\n",
      "String successfully written to cs161/metadata.txt\n",
      "String successfully written to cs150/metadata.txt\n"
     ]
    }
   ],
   "source": [
    "for course_dir in course_dirs:\n",
    "    input_file_path = course_dir / \"metadata.json\"\n",
    "    output_file_path = course_dir / \"metadata.txt\"\n",
    "    convert_json_to_txt(input_file_path, output_file_path)"
   ]
  },
  {
   "cell_type": "code",
   "execution_count": 19,
   "metadata": {},
   "outputs": [
    {
     "name": "stdout",
     "output_type": "stream",
     "text": [
      "JSON file successfully written to data101/metadata.json\n",
      "JSON file successfully written to eecs105/metadata.json\n",
      "JSON file successfully written to cs170/metadata.json\n",
      "JSON file successfully written to data100/metadata.json\n",
      "JSON file successfully written to cs184/metadata.json\n",
      "JSON file successfully written to eecs16a/metadata.json\n",
      "JSON file successfully written to cs61b/metadata.json\n",
      "JSON file successfully written to cs61c/metadata.json\n",
      "JSON file successfully written to data8/metadata.json\n",
      "JSON file successfully written to cs164/metadata.json\n",
      "JSON file successfully written to eecs120/metadata.json\n",
      "JSON file successfully written to cs162/metadata.json\n",
      "JSON file successfully written to cs186/metadata.json\n",
      "JSON file successfully written to cs172/metadata.json\n",
      "JSON file successfully written to data102/metadata.json\n",
      "JSON file successfully written to cs188/metadata.json\n",
      "JSON file successfully written to eecs152/metadata.json\n",
      "JSON file successfully written to cs88/metadata.json\n",
      "JSON file successfully written to eecs16b/metadata.json\n",
      "JSON file successfully written to cs189/metadata.json\n",
      "JSON file successfully written to cs10/metadata.json\n",
      "JSON file successfully written to cs174/metadata.json\n",
      "JSON file successfully written to cs61a/metadata.json\n",
      "JSON file successfully written to eecs70/metadata.json\n",
      "JSON file successfully written to cs169/metadata.json\n",
      "JSON file successfully written to cs161/metadata.json\n",
      "JSON file successfully written to cs150/metadata.json\n"
     ]
    }
   ],
   "source": [
    "for course_dir in course_dirs:\n",
    "    input_file_path = course_dir / \"metadata.json\"\n",
    "    output_file_path = course_dir / \"metadata.json\"\n",
    "\n",
    "    with open(input_file_path, \"r\", encoding=\"utf-8\") as file:\n",
    "        data = json.load(file)\n",
    "    data[\"Exam Prepend\"] = data[\"Course Website\"]\n",
    "    if \"hkn\" in data[\"Exam Prepend\"]:\n",
    "        data[\"Exam Prepend\"] = \"https://hkn.eecs.berkeley.edu/\"\n",
    "    if \"data102\" in data[\"Exam Prepend\"]:\n",
    "        data[\"Exam Prepend\"] += \"resources/\"\n",
    "    if \"inst.eecs\" in data[\"Exam Prepend\"]:\n",
    "        data[\"Exam Prepend\"] = \"https://inst.eecs.berkeley.edu/\"\n",
    "\n",
    "    with open(output_file_path, \"w\", encoding=\"utf-8\") as file:\n",
    "        json.dump(data, file, ensure_ascii=False, indent=4)\n",
    "    print(f\"JSON file successfully written to {output_file_path}\")"
   ]
  },
  {
   "cell_type": "code",
   "execution_count": null,
   "metadata": {},
   "outputs": [],
   "source": []
  }
 ],
 "metadata": {
  "kernelspec": {
   "display_name": "Python 3",
   "language": "python",
   "name": "python3"
  },
  "language_info": {
   "codemirror_mode": {
    "name": "ipython",
    "version": 3
   },
   "file_extension": ".py",
   "mimetype": "text/x-python",
   "name": "python",
   "nbconvert_exporter": "python",
   "pygments_lexer": "ipython3",
   "version": "3.8.9"
  }
 },
 "nbformat": 4,
 "nbformat_minor": 2
}
